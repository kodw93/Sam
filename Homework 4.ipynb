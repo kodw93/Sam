{
 "cells": [
  {
   "cell_type": "markdown",
   "metadata": {},
   "source": [
    "## Homework 4\n",
    "#### Sam (Dong Wook) Ko"
   ]
  },
  {
   "cell_type": "code",
   "execution_count": 1,
   "metadata": {},
   "outputs": [],
   "source": [
    "import pandas as pd \n",
    "import numpy as np\n",
    "import matplotlib.pyplot as plt"
   ]
  },
  {
   "cell_type": "code",
   "execution_count": 2,
   "metadata": {},
   "outputs": [
    {
     "data": {
      "text/html": [
       "<div>\n",
       "<style scoped>\n",
       "    .dataframe tbody tr th:only-of-type {\n",
       "        vertical-align: middle;\n",
       "    }\n",
       "\n",
       "    .dataframe tbody tr th {\n",
       "        vertical-align: top;\n",
       "    }\n",
       "\n",
       "    .dataframe thead th {\n",
       "        text-align: right;\n",
       "    }\n",
       "</style>\n",
       "<table border=\"1\" class=\"dataframe\">\n",
       "  <thead>\n",
       "    <tr style=\"text-align: right;\">\n",
       "      <th></th>\n",
       "      <th>Customer</th>\n",
       "      <th>Day</th>\n",
       "      <th>Browser</th>\n",
       "      <th>Time</th>\n",
       "      <th>Pages_Viewed</th>\n",
       "      <th>Amount_Spent</th>\n",
       "    </tr>\n",
       "  </thead>\n",
       "  <tbody>\n",
       "    <tr>\n",
       "      <th>0</th>\n",
       "      <td>1</td>\n",
       "      <td>Mon</td>\n",
       "      <td>Chrome</td>\n",
       "      <td>12.0</td>\n",
       "      <td>4</td>\n",
       "      <td>54.52</td>\n",
       "    </tr>\n",
       "    <tr>\n",
       "      <th>1</th>\n",
       "      <td>2</td>\n",
       "      <td>Wed</td>\n",
       "      <td>Other</td>\n",
       "      <td>19.5</td>\n",
       "      <td>6</td>\n",
       "      <td>94.90</td>\n",
       "    </tr>\n",
       "    <tr>\n",
       "      <th>2</th>\n",
       "      <td>3</td>\n",
       "      <td>Mon</td>\n",
       "      <td>Chrome</td>\n",
       "      <td>8.5</td>\n",
       "      <td>4</td>\n",
       "      <td>26.68</td>\n",
       "    </tr>\n",
       "    <tr>\n",
       "      <th>3</th>\n",
       "      <td>4</td>\n",
       "      <td>Tue</td>\n",
       "      <td>Firefox</td>\n",
       "      <td>11.4</td>\n",
       "      <td>2</td>\n",
       "      <td>44.73</td>\n",
       "    </tr>\n",
       "    <tr>\n",
       "      <th>4</th>\n",
       "      <td>5</td>\n",
       "      <td>Wed</td>\n",
       "      <td>Chrome</td>\n",
       "      <td>11.3</td>\n",
       "      <td>4</td>\n",
       "      <td>66.27</td>\n",
       "    </tr>\n",
       "  </tbody>\n",
       "</table>\n",
       "</div>"
      ],
      "text/plain": [
       "   Customer  Day  Browser  Time  Pages_Viewed  Amount_Spent\n",
       "0         1  Mon   Chrome  12.0             4         54.52\n",
       "1         2  Wed    Other  19.5             6         94.90\n",
       "2         3  Mon   Chrome   8.5             4         26.68\n",
       "3         4  Tue  Firefox  11.4             2         44.73\n",
       "4         5  Wed   Chrome  11.3             4         66.27"
      ]
     },
     "execution_count": 2,
     "metadata": {},
     "output_type": "execute_result"
    }
   ],
   "source": [
    "data = pd.read_csv(\"HeavenlyChocolates.csv\")\n",
    "data.head()"
   ]
  },
  {
   "cell_type": "markdown",
   "metadata": {},
   "source": [
    "#### 1. Using the techniques we have learned in class so far (i.e. DON’T use groupby() method), create a dataframe that shows the number of visits to Heavenly Chocoloate’s website using different browsers. Your output should be similar to the following table.\n",
    "\n",
    "Browser: Count\n",
    "Chrome: 27\n",
    "Other: 16\n",
    "Firefox: 7"
   ]
  },
  {
   "cell_type": "code",
   "execution_count": 3,
   "metadata": {},
   "outputs": [
    {
     "data": {
      "text/html": [
       "<div>\n",
       "<style scoped>\n",
       "    .dataframe tbody tr th:only-of-type {\n",
       "        vertical-align: middle;\n",
       "    }\n",
       "\n",
       "    .dataframe tbody tr th {\n",
       "        vertical-align: top;\n",
       "    }\n",
       "\n",
       "    .dataframe thead th {\n",
       "        text-align: right;\n",
       "    }\n",
       "</style>\n",
       "<table border=\"1\" class=\"dataframe\">\n",
       "  <thead>\n",
       "    <tr style=\"text-align: right;\">\n",
       "      <th></th>\n",
       "      <th>Browser</th>\n",
       "      <th>Count</th>\n",
       "    </tr>\n",
       "  </thead>\n",
       "  <tbody>\n",
       "    <tr>\n",
       "      <th>0</th>\n",
       "      <td>Chrome</td>\n",
       "      <td>27</td>\n",
       "    </tr>\n",
       "    <tr>\n",
       "      <th>1</th>\n",
       "      <td>Other</td>\n",
       "      <td>7</td>\n",
       "    </tr>\n",
       "    <tr>\n",
       "      <th>2</th>\n",
       "      <td>Firefox</td>\n",
       "      <td>16</td>\n",
       "    </tr>\n",
       "  </tbody>\n",
       "</table>\n",
       "</div>"
      ],
      "text/plain": [
       "   Browser  Count\n",
       "0   Chrome     27\n",
       "1    Other      7\n",
       "2  Firefox     16"
      ]
     },
     "execution_count": 3,
     "metadata": {},
     "output_type": "execute_result"
    }
   ],
   "source": [
    "chrome = data.loc[data.Browser == \"Chrome\",\"Pages_Viewed\"].count()\n",
    "other = data.loc[data.Browser == \"Other\",\"Pages_Viewed\"].count()\n",
    "firefox = data.loc[data.Browser == \"Firefox\", \"Pages_Viewed\"].count()\n",
    "browser = [[\"Chrome\",chrome],[\"Other\",other],[\"Firefox\",firefox]]\n",
    "browser_df = pd.DataFrame(browser, columns = [\"Browser\",\"Count\"])\n",
    "browser_df"
   ]
  },
  {
   "cell_type": "markdown",
   "metadata": {},
   "source": [
    "#### 2. Create a duplicate of the following graph to show which browser is used more by the Heavenly Chocolate website visitors? The dashed line represents the mean of count visits for all browsers in the dataset."
   ]
  },
  {
   "cell_type": "code",
   "execution_count": 4,
   "metadata": {},
   "outputs": [
    {
     "data": {
      "image/png": "[encoded data removed]",
      "text/plain": [
       "<Figure size 792x576 with 1 Axes>"
      ]
     },
     "metadata": {
      "needs_background": "light"
     },
     "output_type": "display_data"
    }
   ],
   "source": [
    "plt.figure(figsize = (11,8))\n",
    "plt.bar(browser_df.Browser, browser_df.Count)\n",
    "plt.title(\"Browsers Used to Visit Heavenly Chocolate Website\", fontsize = 20, color = \"black\")\n",
    "plt.ylabel(\"Count\",fontsize = 20)\n",
    "plt.xticks(fontsize=15)\n",
    "plt.yticks(np.arange(0,31,10), fontsize = 15)\n",
    "plt.axhline(y= browser_df[\"Count\"].mean(), \n",
    "            color = \"red\", \n",
    "            linestyle = \"--\", \n",
    "            linewidth = 1.5, \n",
    "            label = \"Average Line\")\n",
    "plt.legend(loc=\"upper right\")\n",
    "plt.show()"
   ]
  },
  {
   "cell_type": "markdown",
   "metadata": {},
   "source": [
    "#### 3. Create an duplicate of the following scatterplot that shows the relationship between the time spent browsing, and the amount spent buying using either Firefox or Chrome browswers. What does this plot tell you about the company’s revenues using both channels?"
   ]
  },
  {
   "cell_type": "code",
   "execution_count": 5,
   "metadata": {},
   "outputs": [
    {
     "data": {
      "image/png": "[encoded data removed]",
      "text/plain": [
       "<Figure size 864x648 with 1 Axes>"
      ]
     },
     "metadata": {
      "needs_background": "light"
     },
     "output_type": "display_data"
    }
   ],
   "source": [
    "firefox_dot = data[data.Browser==\"Firefox\"]\n",
    "chrome_dot = data[data.Browser==\"Chrome\"]\n",
    "\n",
    "plt.figure(figsize = (12,9))\n",
    "plt.scatter(chrome_dot.Time, chrome_dot.Amount_Spent,\n",
    "            color = \"blue\", \n",
    "            label = \"Chrome\",\n",
    "            s = 100)\n",
    "plt.scatter(firefox_dot.Time, firefox_dot.Amount_Spent,\n",
    "            color = \"red\", \n",
    "            label = \"Firefox\", \n",
    "            s = 100)\n",
    "\n",
    "plt.title(\"Relationship between time spent browsing and amount Spent\", fontsize = 22)\n",
    "\n",
    "plt.ylabel(\"Amount Spent\", fontsize = 15)\n",
    "plt.xlabel(\"Time Spent\", fontsize = 15)\n",
    "plt.xticks(np.arange(0,46,5), fontsize = 15)\n",
    "plt.yticks(np.arange(0,170,20), fontsize = 15)\n",
    "plt.axhline(y= firefox_dot[\"Amount_Spent\"].mean(), \n",
    "            color = \"red\", \n",
    "            linestyle = \"--\", \n",
    "            linewidth = 1.5)\n",
    "plt.axvline(x= firefox_dot[\"Time\"].mean(), \n",
    "            color = \"red\", \n",
    "            linestyle = \"--\", \n",
    "            linewidth = 1.5)\n",
    "\n",
    "plt.axhline(y= chrome_dot[\"Amount_Spent\"].mean(), \n",
    "            color = \"blue\", \n",
    "            linestyle = \"--\", \n",
    "            linewidth = 1.5)\n",
    "plt.axvline(x= chrome_dot[\"Time\"].mean(), \n",
    "            color = \"blue\", \n",
    "            linestyle = \"--\", \n",
    "            linewidth = 1.5,\n",
    "            label = \"Average\")\n",
    "plt.legend(loc=4, fontsize = 15)\n",
    "plt.show()"
   ]
  },
  {
   "cell_type": "markdown",
   "metadata": {},
   "source": [
    "The graph shows that people who use Firefox browser have a higher tendency to spend more time and money online than those who use Chrome as their browser. Also, there seems to be a positive correlation between the time spent and amount spent."
   ]
  },
  {
   "cell_type": "markdown",
   "metadata": {},
   "source": [
    "#### 4. Create the following chart which shows the number of website visitors per day for people using Chrome or Firefox."
   ]
  },
  {
   "cell_type": "code",
   "execution_count": 6,
   "metadata": {},
   "outputs": [
    {
     "data": {
      "text/html": [
       "<div>\n",
       "<style scoped>\n",
       "    .dataframe tbody tr th:only-of-type {\n",
       "        vertical-align: middle;\n",
       "    }\n",
       "\n",
       "    .dataframe tbody tr th {\n",
       "        vertical-align: top;\n",
       "    }\n",
       "\n",
       "    .dataframe thead th {\n",
       "        text-align: right;\n",
       "    }\n",
       "</style>\n",
       "<table border=\"1\" class=\"dataframe\">\n",
       "  <thead>\n",
       "    <tr style=\"text-align: right;\">\n",
       "      <th></th>\n",
       "      <th>Day</th>\n",
       "      <th>Visitor_Count</th>\n",
       "    </tr>\n",
       "  </thead>\n",
       "  <tbody>\n",
       "    <tr>\n",
       "      <th>0</th>\n",
       "      <td>Mon</td>\n",
       "      <td>5</td>\n",
       "    </tr>\n",
       "    <tr>\n",
       "      <th>1</th>\n",
       "      <td>Tue</td>\n",
       "      <td>4</td>\n",
       "    </tr>\n",
       "    <tr>\n",
       "      <th>2</th>\n",
       "      <td>Wed</td>\n",
       "      <td>4</td>\n",
       "    </tr>\n",
       "    <tr>\n",
       "      <th>3</th>\n",
       "      <td>Thu</td>\n",
       "      <td>4</td>\n",
       "    </tr>\n",
       "    <tr>\n",
       "      <th>4</th>\n",
       "      <td>Fri</td>\n",
       "      <td>4</td>\n",
       "    </tr>\n",
       "    <tr>\n",
       "      <th>5</th>\n",
       "      <td>Sat</td>\n",
       "      <td>3</td>\n",
       "    </tr>\n",
       "    <tr>\n",
       "      <th>6</th>\n",
       "      <td>Sun</td>\n",
       "      <td>3</td>\n",
       "    </tr>\n",
       "  </tbody>\n",
       "</table>\n",
       "</div>"
      ],
      "text/plain": [
       "   Day  Visitor_Count\n",
       "0  Mon              5\n",
       "1  Tue              4\n",
       "2  Wed              4\n",
       "3  Thu              4\n",
       "4  Fri              4\n",
       "5  Sat              3\n",
       "6  Sun              3"
      ]
     },
     "execution_count": 6,
     "metadata": {},
     "output_type": "execute_result"
    }
   ],
   "source": [
    "# first, create a df that holds the visitor count by the day for Chrome\n",
    "chrome_mon = data.loc[(data.Browser == \"Chrome\") & (data.Day == \"Mon\"),\"Customer\"].count()\n",
    "chrome_tue = data.loc[(data.Browser == \"Chrome\") & (data.Day == \"Tue\"),\"Customer\"].count()\n",
    "chrome_wed = data.loc[(data.Browser == \"Chrome\") & (data.Day == \"Wed\"),\"Customer\"].count()\n",
    "chrome_thu = data.loc[(data.Browser == \"Chrome\") & (data.Day == \"Thu\"),\"Customer\"].count()\n",
    "chrome_fri = data.loc[(data.Browser == \"Chrome\") & (data.Day == \"Fri\"),\"Customer\"].count()\n",
    "chrome_sat = data.loc[(data.Browser == \"Chrome\") & (data.Day == \"Sat\"),\"Customer\"].count()\n",
    "chrome_sun = data.loc[(data.Browser == \"Chrome\") & (data.Day == \"Sun\"),\"Customer\"].count()\n",
    "\n",
    "chrome_visitors = [[\"Mon\",chrome_mon],[\"Tue\",chrome_tue],[\"Wed\",chrome_wed],[\"Thu\",chrome_thu],\n",
    "                   [\"Fri\",chrome_fri],[\"Sat\",chrome_sat],[\"Sun\",chrome_sun]]\n",
    "chrome_visitors = pd.DataFrame(chrome_visitors, columns = [\"Day\",\"Visitor_Count\"])\n",
    "chrome_visitors"
   ]
  },
  {
   "cell_type": "code",
   "execution_count": 41,
   "metadata": {},
   "outputs": [
    {
     "data": {
      "text/html": [
       "<div>\n",
       "<style scoped>\n",
       "    .dataframe tbody tr th:only-of-type {\n",
       "        vertical-align: middle;\n",
       "    }\n",
       "\n",
       "    .dataframe tbody tr th {\n",
       "        vertical-align: top;\n",
       "    }\n",
       "\n",
       "    .dataframe thead th {\n",
       "        text-align: right;\n",
       "    }\n",
       "</style>\n",
       "<table border=\"1\" class=\"dataframe\">\n",
       "  <thead>\n",
       "    <tr style=\"text-align: right;\">\n",
       "      <th></th>\n",
       "      <th>Day</th>\n",
       "      <th>Customer</th>\n",
       "      <th>daynum</th>\n",
       "    </tr>\n",
       "  </thead>\n",
       "  <tbody>\n",
       "    <tr>\n",
       "      <th>1</th>\n",
       "      <td>Mon</td>\n",
       "      <td>5</td>\n",
       "      <td>1</td>\n",
       "    </tr>\n",
       "    <tr>\n",
       "      <th>5</th>\n",
       "      <td>Tue</td>\n",
       "      <td>4</td>\n",
       "      <td>2</td>\n",
       "    </tr>\n",
       "    <tr>\n",
       "      <th>6</th>\n",
       "      <td>Wed</td>\n",
       "      <td>4</td>\n",
       "      <td>3</td>\n",
       "    </tr>\n",
       "    <tr>\n",
       "      <th>4</th>\n",
       "      <td>Thu</td>\n",
       "      <td>4</td>\n",
       "      <td>4</td>\n",
       "    </tr>\n",
       "    <tr>\n",
       "      <th>0</th>\n",
       "      <td>Fri</td>\n",
       "      <td>4</td>\n",
       "      <td>5</td>\n",
       "    </tr>\n",
       "    <tr>\n",
       "      <th>2</th>\n",
       "      <td>Sat</td>\n",
       "      <td>3</td>\n",
       "      <td>6</td>\n",
       "    </tr>\n",
       "    <tr>\n",
       "      <th>3</th>\n",
       "      <td>Sun</td>\n",
       "      <td>3</td>\n",
       "      <td>7</td>\n",
       "    </tr>\n",
       "  </tbody>\n",
       "</table>\n",
       "</div>"
      ],
      "text/plain": [
       "   Day  Customer  daynum\n",
       "1  Mon         5       1\n",
       "5  Tue         4       2\n",
       "6  Wed         4       3\n",
       "4  Thu         4       4\n",
       "0  Fri         4       5\n",
       "2  Sat         3       6\n",
       "3  Sun         3       7"
      ]
     },
     "execution_count": 41,
     "metadata": {},
     "output_type": "execute_result"
    }
   ],
   "source": [
    "browserday = data.groupby([\"Browser\",\"Day\"]).count().reset_index()\n",
    "chromeday = browserday.loc[browserday.Browser == \"Chrome\",[\"Day\",\"Customer\"]]\n",
    "chromeday[\"daynum\"] = chromeday[\"Day\"].apply(lambda x: 1 if x==\"Mon\" else \n",
    "                                             (2 if x==\"Tue\" else \n",
    "                                              (3 if x == \"Wed\" else \n",
    "                                               (4 if x == \"Thu\" else \n",
    "                                                (5 if x == \"Fri\" else \n",
    "                                                 (6 if x == \"Sat\" else \n",
    "                                                  7))))))\n",
    "chromeday = chromeday.sort_values(\"daynum\")\n",
    "chromeday"
   ]
  },
  {
   "cell_type": "code",
   "execution_count": 42,
   "metadata": {},
   "outputs": [
    {
     "data": {
      "text/html": [
       "<div>\n",
       "<style scoped>\n",
       "    .dataframe tbody tr th:only-of-type {\n",
       "        vertical-align: middle;\n",
       "    }\n",
       "\n",
       "    .dataframe tbody tr th {\n",
       "        vertical-align: top;\n",
       "    }\n",
       "\n",
       "    .dataframe thead th {\n",
       "        text-align: right;\n",
       "    }\n",
       "</style>\n",
       "<table border=\"1\" class=\"dataframe\">\n",
       "  <thead>\n",
       "    <tr style=\"text-align: right;\">\n",
       "      <th></th>\n",
       "      <th>Day</th>\n",
       "      <th>Customer</th>\n",
       "      <th>daynum</th>\n",
       "    </tr>\n",
       "  </thead>\n",
       "  <tbody>\n",
       "    <tr>\n",
       "      <th>8</th>\n",
       "      <td>Mon</td>\n",
       "      <td>2</td>\n",
       "      <td>1</td>\n",
       "    </tr>\n",
       "    <tr>\n",
       "      <th>12</th>\n",
       "      <td>Tue</td>\n",
       "      <td>2</td>\n",
       "      <td>2</td>\n",
       "    </tr>\n",
       "    <tr>\n",
       "      <th>13</th>\n",
       "      <td>Wed</td>\n",
       "      <td>1</td>\n",
       "      <td>3</td>\n",
       "    </tr>\n",
       "    <tr>\n",
       "      <th>11</th>\n",
       "      <td>Thu</td>\n",
       "      <td>1</td>\n",
       "      <td>4</td>\n",
       "    </tr>\n",
       "    <tr>\n",
       "      <th>7</th>\n",
       "      <td>Fri</td>\n",
       "      <td>6</td>\n",
       "      <td>5</td>\n",
       "    </tr>\n",
       "    <tr>\n",
       "      <th>9</th>\n",
       "      <td>Sat</td>\n",
       "      <td>3</td>\n",
       "      <td>6</td>\n",
       "    </tr>\n",
       "    <tr>\n",
       "      <th>10</th>\n",
       "      <td>Sun</td>\n",
       "      <td>1</td>\n",
       "      <td>7</td>\n",
       "    </tr>\n",
       "  </tbody>\n",
       "</table>\n",
       "</div>"
      ],
      "text/plain": [
       "    Day  Customer  daynum\n",
       "8   Mon         2       1\n",
       "12  Tue         2       2\n",
       "13  Wed         1       3\n",
       "11  Thu         1       4\n",
       "7   Fri         6       5\n",
       "9   Sat         3       6\n",
       "10  Sun         1       7"
      ]
     },
     "execution_count": 42,
     "metadata": {},
     "output_type": "execute_result"
    }
   ],
   "source": [
    "browserday = data.groupby([\"Browser\",\"Day\"]).count().reset_index()\n",
    "ffday = browserday.loc[browserday.Browser == \"Firefox\",[\"Day\",\"Customer\"]]\n",
    "ffday[\"daynum\"] = ffday[\"Day\"].apply(lambda x: 1 if x==\"Mon\" else \n",
    "                                             (2 if x==\"Tue\" else \n",
    "                                              (3 if x == \"Wed\" else \n",
    "                                               (4 if x == \"Thu\" else \n",
    "                                                (5 if x == \"Fri\" else \n",
    "                                                 (6 if x == \"Sat\" else \n",
    "                                                  7))))))\n",
    "ffday = ffday.sort_values(\"daynum\")\n",
    "ffday"
   ]
  },
  {
   "cell_type": "code",
   "execution_count": 57,
   "metadata": {},
   "outputs": [
    {
     "data": {
      "image/png": "[encoded data removed]",
      "text/plain": [
       "<Figure size 1152x648 with 1 Axes>"
      ]
     },
     "metadata": {
      "needs_background": "light"
     },
     "output_type": "display_data"
    }
   ],
   "source": [
    "plt.figure(figsize = (16,9))\n",
    "pos = np.arange(len(chromeday.Day.unique()))\n",
    "bar_width = 0.3\n",
    "plt.bar(pos-bar_width/2, chromeday.Customer, color = \"blue\", width = 0.3)\n",
    "plt.bar(pos+bar_width/2, ffday.Customer, color = \"red\", width = 0.3)\n",
    "\n",
    "plt.xticks(pos)\n",
    "ax = plt.gca()\n",
    "ax.set_xticklabels(chromeday.Day)\n",
    "\n",
    "\n",
    "plt.show()"
   ]
  },
  {
   "cell_type": "code",
   "execution_count": null,
   "metadata": {},
   "outputs": [],
   "source": []
  },
  {
   "cell_type": "code",
   "execution_count": null,
   "metadata": {},
   "outputs": [],
   "source": []
  },
  {
   "cell_type": "code",
   "execution_count": null,
   "metadata": {},
   "outputs": [],
   "source": []
  },
  {
   "cell_type": "code",
   "execution_count": null,
   "metadata": {},
   "outputs": [],
   "source": []
  },
  {
   "cell_type": "code",
   "execution_count": null,
   "metadata": {},
   "outputs": [],
   "source": []
  },
  {
   "cell_type": "code",
   "execution_count": null,
   "metadata": {},
   "outputs": [],
   "source": []
  },
  {
   "cell_type": "code",
   "execution_count": null,
   "metadata": {},
   "outputs": [],
   "source": []
  },
  {
   "cell_type": "code",
   "execution_count": null,
   "metadata": {},
   "outputs": [],
   "source": []
  },
  {
   "cell_type": "code",
   "execution_count": null,
   "metadata": {},
   "outputs": [],
   "source": []
  },
  {
   "cell_type": "code",
   "execution_count": 8,
   "metadata": {},
   "outputs": [
    {
     "data": {
      "text/html": [
       "<div>\n",
       "<style scoped>\n",
       "    .dataframe tbody tr th:only-of-type {\n",
       "        vertical-align: middle;\n",
       "    }\n",
       "\n",
       "    .dataframe tbody tr th {\n",
       "        vertical-align: top;\n",
       "    }\n",
       "\n",
       "    .dataframe thead th {\n",
       "        text-align: right;\n",
       "    }\n",
       "</style>\n",
       "<table border=\"1\" class=\"dataframe\">\n",
       "  <thead>\n",
       "    <tr style=\"text-align: right;\">\n",
       "      <th></th>\n",
       "      <th>Day</th>\n",
       "      <th>Visitor_Count</th>\n",
       "    </tr>\n",
       "  </thead>\n",
       "  <tbody>\n",
       "    <tr>\n",
       "      <th>0</th>\n",
       "      <td>Mon</td>\n",
       "      <td>2</td>\n",
       "    </tr>\n",
       "    <tr>\n",
       "      <th>1</th>\n",
       "      <td>Tue</td>\n",
       "      <td>2</td>\n",
       "    </tr>\n",
       "    <tr>\n",
       "      <th>2</th>\n",
       "      <td>Wed</td>\n",
       "      <td>1</td>\n",
       "    </tr>\n",
       "    <tr>\n",
       "      <th>3</th>\n",
       "      <td>Thu</td>\n",
       "      <td>1</td>\n",
       "    </tr>\n",
       "    <tr>\n",
       "      <th>4</th>\n",
       "      <td>Fri</td>\n",
       "      <td>6</td>\n",
       "    </tr>\n",
       "    <tr>\n",
       "      <th>5</th>\n",
       "      <td>Sat</td>\n",
       "      <td>3</td>\n",
       "    </tr>\n",
       "    <tr>\n",
       "      <th>6</th>\n",
       "      <td>Sun</td>\n",
       "      <td>1</td>\n",
       "    </tr>\n",
       "  </tbody>\n",
       "</table>\n",
       "</div>"
      ],
      "text/plain": [
       "   Day  Visitor_Count\n",
       "0  Mon              2\n",
       "1  Tue              2\n",
       "2  Wed              1\n",
       "3  Thu              1\n",
       "4  Fri              6\n",
       "5  Sat              3\n",
       "6  Sun              1"
      ]
     },
     "execution_count": 8,
     "metadata": {},
     "output_type": "execute_result"
    }
   ],
   "source": [
    "# same thing for Firefox\n",
    "firefox_mon = data.loc[(data.Browser == \"Firefox\") & (data.Day == \"Mon\"),\"Customer\"].count()\n",
    "firefox_tue = data.loc[(data.Browser == \"Firefox\") & (data.Day == \"Tue\"),\"Customer\"].count()\n",
    "firefox_wed = data.loc[(data.Browser == \"Firefox\") & (data.Day == \"Wed\"),\"Customer\"].count()\n",
    "firefox_thu = data.loc[(data.Browser == \"Firefox\") & (data.Day == \"Thu\"),\"Customer\"].count()\n",
    "firefox_fri = data.loc[(data.Browser == \"Firefox\") & (data.Day == \"Fri\"),\"Customer\"].count()\n",
    "firefox_sat = data.loc[(data.Browser == \"Firefox\") & (data.Day == \"Sat\"),\"Customer\"].count()\n",
    "firefox_sun = data.loc[(data.Browser == \"Firefox\") & (data.Day == \"Sun\"),\"Customer\"].count()\n",
    "\n",
    "firefox_visitors = [[\"Mon\",firefox_mon],[\"Tue\",firefox_tue],[\"Wed\",firefox_wed],[\"Thu\",firefox_thu],\n",
    "                   [\"Fri\",firefox_fri],[\"Sat\",firefox_sat],[\"Sun\",firefox_sun]]\n",
    "firefox_visitors = pd.DataFrame(firefox_visitors, columns = [\"Day\",\"Visitor_Count\"])\n",
    "firefox_visitors"
   ]
  },
  {
   "cell_type": "code",
   "execution_count": 9,
   "metadata": {},
   "outputs": [
    {
     "data": {
      "image/png": "[encoded data removed]",
      "text/plain": [
       "<Figure size 864x648 with 1 Axes>"
      ]
     },
     "metadata": {
      "needs_background": "light"
     },
     "output_type": "display_data"
    }
   ],
   "source": [
    "plt.figure(figsize = (12,9))\n",
    "\n",
    "pos=np.arange(len(chrome_visitors.Day))\n",
    "barwidth = 0.3\n",
    "\n",
    "plt.bar (pos - barwidth/2, \n",
    "         chrome_visitors.Visitor_Count, \n",
    "         color = \"blue\", \n",
    "         width = barwidth, \n",
    "         label = \"Chrome\")\n",
    "\n",
    "plt.bar (pos + barwidth/2, \n",
    "         firefox_visitors.Visitor_Count, \n",
    "         color = \"red\", \n",
    "         width = barwidth, \n",
    "         label = \"Firefox\")\n",
    "\n",
    "plt.title (\"Number of website visitors per day\", fontsize = 18)\n",
    "plt.ylabel(\"Count\", fontsize = 15)\n",
    "\n",
    "\n",
    "ax = plt.gca()\n",
    "ax.set_xticks(range(len(chrome_visitors)))\n",
    "ax.set_xticklabels(chrome_visitors.Day, fontsize = 15)\n",
    "plt.yticks(fontsize = 15)\n",
    "plt.legend(loc = 1, prop={\"size\":15})\n",
    "plt.show()"
   ]
  }
 ],
 "metadata": {
  "kernelspec": {
   "display_name": "Python 3",
   "language": "python",
   "name": "python3"
  },
  "language_info": {
   "codemirror_mode": {
    "name": "ipython",
    "version": 3
   },
   "file_extension": ".py",
   "mimetype": "text/x-python",
   "name": "python",
   "nbconvert_exporter": "python",
   "pygments_lexer": "ipython3",
   "version": "3.7.3"
  }
 },
 "nbformat": 4,
 "nbformat_minor": 2
}
