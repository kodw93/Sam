{
 "cells": [
  {
   "cell_type": "markdown",
   "metadata": {},
   "source": [
    "# More Classification with Scikit-Learn"
   ]
  },
  {
   "cell_type": "code",
   "execution_count": 1,
   "metadata": {
    "collapsed": true
   },
   "outputs": [],
   "source": [
    "import pandas as pd\n",
    "import numpy as np\n",
    "import matplotlib as mpl\n",
    "import matplotlib.pyplot as plt\n",
    "import seaborn as sns\n",
    "\n",
    "%matplotlib inline"
   ]
  },
  {
   "cell_type": "code",
   "execution_count": 2,
   "metadata": {
    "collapsed": true
   },
   "outputs": [],
   "source": [
    "import sklearn as skl\n",
    "from sklearn.linear_model import LogisticRegression\n",
    "from sklearn.tree import DecisionTreeClassifier\n",
    "from sklearn.model_selection import train_test_split\n",
    "import sklearn.metrics as sklmetrics"
   ]
  },
  {
   "cell_type": "markdown",
   "metadata": {},
   "source": [
    "## Bank Campaign Dataset\n",
    "\n",
    "We will be using the dataset available from [UCI data repository](https://archive.ics.uci.edu/ml/datasets/Bank+Marketing#), that provides information on the phone campaign run by the bank to see if a customer can be converted to have term deposit at their bank. We will only be using a sample from the data. "
   ]
  },
  {
   "cell_type": "code",
   "execution_count": 3,
   "metadata": {},
   "outputs": [
    {
     "data": {
      "text/html": [
       "<div>\n",
       "<style>\n",
       "    .dataframe thead tr:only-child th {\n",
       "        text-align: right;\n",
       "    }\n",
       "\n",
       "    .dataframe thead th {\n",
       "        text-align: left;\n",
       "    }\n",
       "\n",
       "    .dataframe tbody tr th {\n",
       "        vertical-align: top;\n",
       "    }\n",
       "</style>\n",
       "<table border=\"1\" class=\"dataframe\">\n",
       "  <thead>\n",
       "    <tr style=\"text-align: right;\">\n",
       "      <th></th>\n",
       "      <th>age</th>\n",
       "      <th>marital</th>\n",
       "      <th>education</th>\n",
       "      <th>default</th>\n",
       "      <th>balance</th>\n",
       "      <th>housing</th>\n",
       "      <th>loan</th>\n",
       "      <th>contact</th>\n",
       "      <th>duration</th>\n",
       "      <th>campaign</th>\n",
       "      <th>pdays</th>\n",
       "      <th>previous</th>\n",
       "      <th>success</th>\n",
       "    </tr>\n",
       "  </thead>\n",
       "  <tbody>\n",
       "    <tr>\n",
       "      <th>0</th>\n",
       "      <td>30</td>\n",
       "      <td>married</td>\n",
       "      <td>primary</td>\n",
       "      <td>0</td>\n",
       "      <td>1787</td>\n",
       "      <td>0</td>\n",
       "      <td>0</td>\n",
       "      <td>cellular</td>\n",
       "      <td>79</td>\n",
       "      <td>1</td>\n",
       "      <td>-1</td>\n",
       "      <td>0</td>\n",
       "      <td>0</td>\n",
       "    </tr>\n",
       "    <tr>\n",
       "      <th>1</th>\n",
       "      <td>33</td>\n",
       "      <td>married</td>\n",
       "      <td>secondary</td>\n",
       "      <td>0</td>\n",
       "      <td>4789</td>\n",
       "      <td>1</td>\n",
       "      <td>1</td>\n",
       "      <td>cellular</td>\n",
       "      <td>220</td>\n",
       "      <td>1</td>\n",
       "      <td>339</td>\n",
       "      <td>4</td>\n",
       "      <td>0</td>\n",
       "    </tr>\n",
       "    <tr>\n",
       "      <th>2</th>\n",
       "      <td>35</td>\n",
       "      <td>single</td>\n",
       "      <td>tertiary</td>\n",
       "      <td>0</td>\n",
       "      <td>1350</td>\n",
       "      <td>1</td>\n",
       "      <td>0</td>\n",
       "      <td>cellular</td>\n",
       "      <td>185</td>\n",
       "      <td>1</td>\n",
       "      <td>330</td>\n",
       "      <td>1</td>\n",
       "      <td>0</td>\n",
       "    </tr>\n",
       "    <tr>\n",
       "      <th>3</th>\n",
       "      <td>30</td>\n",
       "      <td>married</td>\n",
       "      <td>tertiary</td>\n",
       "      <td>0</td>\n",
       "      <td>1476</td>\n",
       "      <td>1</td>\n",
       "      <td>1</td>\n",
       "      <td>unknown</td>\n",
       "      <td>199</td>\n",
       "      <td>4</td>\n",
       "      <td>-1</td>\n",
       "      <td>0</td>\n",
       "      <td>0</td>\n",
       "    </tr>\n",
       "    <tr>\n",
       "      <th>4</th>\n",
       "      <td>59</td>\n",
       "      <td>married</td>\n",
       "      <td>secondary</td>\n",
       "      <td>0</td>\n",
       "      <td>0</td>\n",
       "      <td>1</td>\n",
       "      <td>0</td>\n",
       "      <td>unknown</td>\n",
       "      <td>226</td>\n",
       "      <td>1</td>\n",
       "      <td>-1</td>\n",
       "      <td>0</td>\n",
       "      <td>0</td>\n",
       "    </tr>\n",
       "  </tbody>\n",
       "</table>\n",
       "</div>"
      ],
      "text/plain": [
       "   age  marital  education  default  balance  housing  loan   contact  \\\n",
       "0   30  married    primary        0     1787        0     0  cellular   \n",
       "1   33  married  secondary        0     4789        1     1  cellular   \n",
       "2   35   single   tertiary        0     1350        1     0  cellular   \n",
       "3   30  married   tertiary        0     1476        1     1   unknown   \n",
       "4   59  married  secondary        0        0        1     0   unknown   \n",
       "\n",
       "   duration  campaign  pdays  previous  success  \n",
       "0        79         1     -1         0        0  \n",
       "1       220         1    339         4        0  \n",
       "2       185         1    330         1        0  \n",
       "3       199         4     -1         0        0  \n",
       "4       226         1     -1         0        0  "
      ]
     },
     "execution_count": 3,
     "metadata": {},
     "output_type": "execute_result"
    }
   ],
   "source": [
    "bank_data = pd.read_csv('./data/bank_campaign_small.csv')\n",
    "bank_data.head()"
   ]
  },
  {
   "cell_type": "code",
   "execution_count": 4,
   "metadata": {},
   "outputs": [
    {
     "data": {
      "text/plain": [
       "age           int64\n",
       "marital      object\n",
       "education    object\n",
       "default       int64\n",
       "balance       int64\n",
       "housing       int64\n",
       "loan          int64\n",
       "contact      object\n",
       "duration      int64\n",
       "campaign      int64\n",
       "pdays         int64\n",
       "previous      int64\n",
       "success       int64\n",
       "dtype: object"
      ]
     },
     "execution_count": 4,
     "metadata": {},
     "output_type": "execute_result"
    }
   ],
   "source": [
    "bank_data.dtypes"
   ]
  },
  {
   "cell_type": "markdown",
   "metadata": {},
   "source": [
    "## Handling Categorical Input Variables using `pd.get_dummies()` method\n",
    "\n",
    "In the previous class, we have deleted the categorical input variables, but you don't have to always delete them. You can convert the cateogrical input variables using `get_dummies()`"
   ]
  },
  {
   "cell_type": "markdown",
   "metadata": {},
   "source": [
    "<div class=\"alert alert-block alert-danger\">\n",
    "<h5>Remove the one category for each categorical variable</h5>\n",
    "<p>\n",
    "As you will see the `get_dummies` method introducing a column for each value of the cateogorical varible. It is **very important** to remove one column for each categorical variable for the models to appropriately work. \n",
    "</p>\n",
    "<p>\n",
    "For example, in for the bank data, for the categorical variable marital status, may be we can remove say 'marital_divorced', and for education may be we can remove 'education_unknown' and for contact we can remove 'contact_unknown'. \n",
    "</p>\n",
    "</div> "
   ]
  },
  {
   "cell_type": "code",
   "execution_count": 5,
   "metadata": {},
   "outputs": [
    {
     "data": {
      "text/html": [
       "<div>\n",
       "<style>\n",
       "    .dataframe thead tr:only-child th {\n",
       "        text-align: right;\n",
       "    }\n",
       "\n",
       "    .dataframe thead th {\n",
       "        text-align: left;\n",
       "    }\n",
       "\n",
       "    .dataframe tbody tr th {\n",
       "        vertical-align: top;\n",
       "    }\n",
       "</style>\n",
       "<table border=\"1\" class=\"dataframe\">\n",
       "  <thead>\n",
       "    <tr style=\"text-align: right;\">\n",
       "      <th></th>\n",
       "      <th>age</th>\n",
       "      <th>marital</th>\n",
       "      <th>education</th>\n",
       "      <th>default</th>\n",
       "      <th>balance</th>\n",
       "      <th>housing</th>\n",
       "      <th>loan</th>\n",
       "      <th>contact</th>\n",
       "      <th>duration</th>\n",
       "      <th>campaign</th>\n",
       "      <th>pdays</th>\n",
       "      <th>previous</th>\n",
       "      <th>success</th>\n",
       "    </tr>\n",
       "  </thead>\n",
       "  <tbody>\n",
       "    <tr>\n",
       "      <th>0</th>\n",
       "      <td>30</td>\n",
       "      <td>married</td>\n",
       "      <td>primary</td>\n",
       "      <td>0</td>\n",
       "      <td>1787</td>\n",
       "      <td>0</td>\n",
       "      <td>0</td>\n",
       "      <td>cellular</td>\n",
       "      <td>79</td>\n",
       "      <td>1</td>\n",
       "      <td>-1</td>\n",
       "      <td>0</td>\n",
       "      <td>0</td>\n",
       "    </tr>\n",
       "    <tr>\n",
       "      <th>1</th>\n",
       "      <td>33</td>\n",
       "      <td>married</td>\n",
       "      <td>secondary</td>\n",
       "      <td>0</td>\n",
       "      <td>4789</td>\n",
       "      <td>1</td>\n",
       "      <td>1</td>\n",
       "      <td>cellular</td>\n",
       "      <td>220</td>\n",
       "      <td>1</td>\n",
       "      <td>339</td>\n",
       "      <td>4</td>\n",
       "      <td>0</td>\n",
       "    </tr>\n",
       "    <tr>\n",
       "      <th>2</th>\n",
       "      <td>35</td>\n",
       "      <td>single</td>\n",
       "      <td>tertiary</td>\n",
       "      <td>0</td>\n",
       "      <td>1350</td>\n",
       "      <td>1</td>\n",
       "      <td>0</td>\n",
       "      <td>cellular</td>\n",
       "      <td>185</td>\n",
       "      <td>1</td>\n",
       "      <td>330</td>\n",
       "      <td>1</td>\n",
       "      <td>0</td>\n",
       "    </tr>\n",
       "    <tr>\n",
       "      <th>3</th>\n",
       "      <td>30</td>\n",
       "      <td>married</td>\n",
       "      <td>tertiary</td>\n",
       "      <td>0</td>\n",
       "      <td>1476</td>\n",
       "      <td>1</td>\n",
       "      <td>1</td>\n",
       "      <td>unknown</td>\n",
       "      <td>199</td>\n",
       "      <td>4</td>\n",
       "      <td>-1</td>\n",
       "      <td>0</td>\n",
       "      <td>0</td>\n",
       "    </tr>\n",
       "    <tr>\n",
       "      <th>4</th>\n",
       "      <td>59</td>\n",
       "      <td>married</td>\n",
       "      <td>secondary</td>\n",
       "      <td>0</td>\n",
       "      <td>0</td>\n",
       "      <td>1</td>\n",
       "      <td>0</td>\n",
       "      <td>unknown</td>\n",
       "      <td>226</td>\n",
       "      <td>1</td>\n",
       "      <td>-1</td>\n",
       "      <td>0</td>\n",
       "      <td>0</td>\n",
       "    </tr>\n",
       "  </tbody>\n",
       "</table>\n",
       "</div>"
      ],
      "text/plain": [
       "   age  marital  education  default  balance  housing  loan   contact  \\\n",
       "0   30  married    primary        0     1787        0     0  cellular   \n",
       "1   33  married  secondary        0     4789        1     1  cellular   \n",
       "2   35   single   tertiary        0     1350        1     0  cellular   \n",
       "3   30  married   tertiary        0     1476        1     1   unknown   \n",
       "4   59  married  secondary        0        0        1     0   unknown   \n",
       "\n",
       "   duration  campaign  pdays  previous  success  \n",
       "0        79         1     -1         0        0  \n",
       "1       220         1    339         4        0  \n",
       "2       185         1    330         1        0  \n",
       "3       199         4     -1         0        0  \n",
       "4       226         1     -1         0        0  "
      ]
     },
     "execution_count": 5,
     "metadata": {},
     "output_type": "execute_result"
    }
   ],
   "source": [
    "bank_data = pd.read_csv('./data/bank_campaign_small.csv')\n",
    "bank_data.head()"
   ]
  },
  {
   "cell_type": "code",
   "execution_count": 10,
   "metadata": {},
   "outputs": [
    {
     "data": {
      "text/plain": [
       "array(['married', 'single', 'divorced'], dtype=object)"
      ]
     },
     "execution_count": 10,
     "metadata": {},
     "output_type": "execute_result"
    }
   ],
   "source": [
    "bank_data['marital'].unique()\n",
    "#nominal"
   ]
  },
  {
   "cell_type": "code",
   "execution_count": 11,
   "metadata": {},
   "outputs": [
    {
     "data": {
      "text/plain": [
       "array(['primary', 'secondary', 'tertiary', 'unknown'], dtype=object)"
      ]
     },
     "execution_count": 11,
     "metadata": {},
     "output_type": "execute_result"
    }
   ],
   "source": [
    "bank_data['education'].unique()\n",
    "#ordinal"
   ]
  },
  {
   "cell_type": "code",
   "execution_count": 12,
   "metadata": {},
   "outputs": [
    {
     "data": {
      "text/plain": [
       "array(['cellular', 'unknown', 'telephone'], dtype=object)"
      ]
     },
     "execution_count": 12,
     "metadata": {},
     "output_type": "execute_result"
    }
   ],
   "source": [
    "bank_data['contact'].unique()\n",
    "#nominal"
   ]
  },
  {
   "cell_type": "code",
   "execution_count": 9,
   "metadata": {},
   "outputs": [
    {
     "data": {
      "text/html": [
       "<div>\n",
       "<style>\n",
       "    .dataframe thead tr:only-child th {\n",
       "        text-align: right;\n",
       "    }\n",
       "\n",
       "    .dataframe thead th {\n",
       "        text-align: left;\n",
       "    }\n",
       "\n",
       "    .dataframe tbody tr th {\n",
       "        vertical-align: top;\n",
       "    }\n",
       "</style>\n",
       "<table border=\"1\" class=\"dataframe\">\n",
       "  <thead>\n",
       "    <tr style=\"text-align: right;\">\n",
       "      <th></th>\n",
       "      <th>age</th>\n",
       "      <th>default</th>\n",
       "      <th>balance</th>\n",
       "      <th>housing</th>\n",
       "      <th>loan</th>\n",
       "      <th>duration</th>\n",
       "      <th>campaign</th>\n",
       "      <th>pdays</th>\n",
       "      <th>previous</th>\n",
       "      <th>success</th>\n",
       "      <th>marital_divorced</th>\n",
       "      <th>marital_married</th>\n",
       "      <th>marital_single</th>\n",
       "      <th>education_primary</th>\n",
       "      <th>education_secondary</th>\n",
       "      <th>education_tertiary</th>\n",
       "      <th>education_unknown</th>\n",
       "      <th>contact_cellular</th>\n",
       "      <th>contact_telephone</th>\n",
       "      <th>contact_unknown</th>\n",
       "    </tr>\n",
       "  </thead>\n",
       "  <tbody>\n",
       "    <tr>\n",
       "      <th>0</th>\n",
       "      <td>30</td>\n",
       "      <td>0</td>\n",
       "      <td>1787</td>\n",
       "      <td>0</td>\n",
       "      <td>0</td>\n",
       "      <td>79</td>\n",
       "      <td>1</td>\n",
       "      <td>-1</td>\n",
       "      <td>0</td>\n",
       "      <td>0</td>\n",
       "      <td>0</td>\n",
       "      <td>1</td>\n",
       "      <td>0</td>\n",
       "      <td>1</td>\n",
       "      <td>0</td>\n",
       "      <td>0</td>\n",
       "      <td>0</td>\n",
       "      <td>1</td>\n",
       "      <td>0</td>\n",
       "      <td>0</td>\n",
       "    </tr>\n",
       "    <tr>\n",
       "      <th>1</th>\n",
       "      <td>33</td>\n",
       "      <td>0</td>\n",
       "      <td>4789</td>\n",
       "      <td>1</td>\n",
       "      <td>1</td>\n",
       "      <td>220</td>\n",
       "      <td>1</td>\n",
       "      <td>339</td>\n",
       "      <td>4</td>\n",
       "      <td>0</td>\n",
       "      <td>0</td>\n",
       "      <td>1</td>\n",
       "      <td>0</td>\n",
       "      <td>0</td>\n",
       "      <td>1</td>\n",
       "      <td>0</td>\n",
       "      <td>0</td>\n",
       "      <td>1</td>\n",
       "      <td>0</td>\n",
       "      <td>0</td>\n",
       "    </tr>\n",
       "    <tr>\n",
       "      <th>2</th>\n",
       "      <td>35</td>\n",
       "      <td>0</td>\n",
       "      <td>1350</td>\n",
       "      <td>1</td>\n",
       "      <td>0</td>\n",
       "      <td>185</td>\n",
       "      <td>1</td>\n",
       "      <td>330</td>\n",
       "      <td>1</td>\n",
       "      <td>0</td>\n",
       "      <td>0</td>\n",
       "      <td>0</td>\n",
       "      <td>1</td>\n",
       "      <td>0</td>\n",
       "      <td>0</td>\n",
       "      <td>1</td>\n",
       "      <td>0</td>\n",
       "      <td>1</td>\n",
       "      <td>0</td>\n",
       "      <td>0</td>\n",
       "    </tr>\n",
       "    <tr>\n",
       "      <th>3</th>\n",
       "      <td>30</td>\n",
       "      <td>0</td>\n",
       "      <td>1476</td>\n",
       "      <td>1</td>\n",
       "      <td>1</td>\n",
       "      <td>199</td>\n",
       "      <td>4</td>\n",
       "      <td>-1</td>\n",
       "      <td>0</td>\n",
       "      <td>0</td>\n",
       "      <td>0</td>\n",
       "      <td>1</td>\n",
       "      <td>0</td>\n",
       "      <td>0</td>\n",
       "      <td>0</td>\n",
       "      <td>1</td>\n",
       "      <td>0</td>\n",
       "      <td>0</td>\n",
       "      <td>0</td>\n",
       "      <td>1</td>\n",
       "    </tr>\n",
       "    <tr>\n",
       "      <th>4</th>\n",
       "      <td>59</td>\n",
       "      <td>0</td>\n",
       "      <td>0</td>\n",
       "      <td>1</td>\n",
       "      <td>0</td>\n",
       "      <td>226</td>\n",
       "      <td>1</td>\n",
       "      <td>-1</td>\n",
       "      <td>0</td>\n",
       "      <td>0</td>\n",
       "      <td>0</td>\n",
       "      <td>1</td>\n",
       "      <td>0</td>\n",
       "      <td>0</td>\n",
       "      <td>1</td>\n",
       "      <td>0</td>\n",
       "      <td>0</td>\n",
       "      <td>0</td>\n",
       "      <td>0</td>\n",
       "      <td>1</td>\n",
       "    </tr>\n",
       "  </tbody>\n",
       "</table>\n",
       "</div>"
      ],
      "text/plain": [
       "   age  default  balance  housing  loan  duration  campaign  pdays  previous  \\\n",
       "0   30        0     1787        0     0        79         1     -1         0   \n",
       "1   33        0     4789        1     1       220         1    339         4   \n",
       "2   35        0     1350        1     0       185         1    330         1   \n",
       "3   30        0     1476        1     1       199         4     -1         0   \n",
       "4   59        0        0        1     0       226         1     -1         0   \n",
       "\n",
       "   success  marital_divorced  marital_married  marital_single  \\\n",
       "0        0                 0                1               0   \n",
       "1        0                 0                1               0   \n",
       "2        0                 0                0               1   \n",
       "3        0                 0                1               0   \n",
       "4        0                 0                1               0   \n",
       "\n",
       "   education_primary  education_secondary  education_tertiary  \\\n",
       "0                  1                    0                   0   \n",
       "1                  0                    1                   0   \n",
       "2                  0                    0                   1   \n",
       "3                  0                    0                   1   \n",
       "4                  0                    1                   0   \n",
       "\n",
       "   education_unknown  contact_cellular  contact_telephone  contact_unknown  \n",
       "0                  0                 1                  0                0  \n",
       "1                  0                 1                  0                0  \n",
       "2                  0                 1                  0                0  \n",
       "3                  0                 0                  0                1  \n",
       "4                  0                 0                  0                1  "
      ]
     },
     "execution_count": 9,
     "metadata": {},
     "output_type": "execute_result"
    }
   ],
   "source": [
    "bank_data_with_dummies = pd.get_dummies(bank_data)\n",
    "bank_data_with_dummies.head()"
   ]
  },
  {
   "cell_type": "markdown",
   "metadata": {},
   "source": [
    "### Remove the additional variables introduced by `pd.get_dummies()` method\n",
    "\n",
    "After removing the additional columns for each categorical variable, we can use this data with dummy columns added as input to various classifiers. "
   ]
  },
  {
   "cell_type": "code",
   "execution_count": 13,
   "metadata": {},
   "outputs": [
    {
     "data": {
      "text/html": [
       "<div>\n",
       "<style>\n",
       "    .dataframe thead tr:only-child th {\n",
       "        text-align: right;\n",
       "    }\n",
       "\n",
       "    .dataframe thead th {\n",
       "        text-align: left;\n",
       "    }\n",
       "\n",
       "    .dataframe tbody tr th {\n",
       "        vertical-align: top;\n",
       "    }\n",
       "</style>\n",
       "<table border=\"1\" class=\"dataframe\">\n",
       "  <thead>\n",
       "    <tr style=\"text-align: right;\">\n",
       "      <th></th>\n",
       "      <th>age</th>\n",
       "      <th>default</th>\n",
       "      <th>balance</th>\n",
       "      <th>housing</th>\n",
       "      <th>loan</th>\n",
       "      <th>duration</th>\n",
       "      <th>campaign</th>\n",
       "      <th>pdays</th>\n",
       "      <th>previous</th>\n",
       "      <th>success</th>\n",
       "      <th>marital_married</th>\n",
       "      <th>marital_single</th>\n",
       "      <th>education_primary</th>\n",
       "      <th>education_secondary</th>\n",
       "      <th>education_tertiary</th>\n",
       "      <th>contact_cellular</th>\n",
       "      <th>contact_telephone</th>\n",
       "    </tr>\n",
       "  </thead>\n",
       "  <tbody>\n",
       "    <tr>\n",
       "      <th>0</th>\n",
       "      <td>30</td>\n",
       "      <td>0</td>\n",
       "      <td>1787</td>\n",
       "      <td>0</td>\n",
       "      <td>0</td>\n",
       "      <td>79</td>\n",
       "      <td>1</td>\n",
       "      <td>-1</td>\n",
       "      <td>0</td>\n",
       "      <td>0</td>\n",
       "      <td>1</td>\n",
       "      <td>0</td>\n",
       "      <td>1</td>\n",
       "      <td>0</td>\n",
       "      <td>0</td>\n",
       "      <td>1</td>\n",
       "      <td>0</td>\n",
       "    </tr>\n",
       "    <tr>\n",
       "      <th>1</th>\n",
       "      <td>33</td>\n",
       "      <td>0</td>\n",
       "      <td>4789</td>\n",
       "      <td>1</td>\n",
       "      <td>1</td>\n",
       "      <td>220</td>\n",
       "      <td>1</td>\n",
       "      <td>339</td>\n",
       "      <td>4</td>\n",
       "      <td>0</td>\n",
       "      <td>1</td>\n",
       "      <td>0</td>\n",
       "      <td>0</td>\n",
       "      <td>1</td>\n",
       "      <td>0</td>\n",
       "      <td>1</td>\n",
       "      <td>0</td>\n",
       "    </tr>\n",
       "    <tr>\n",
       "      <th>2</th>\n",
       "      <td>35</td>\n",
       "      <td>0</td>\n",
       "      <td>1350</td>\n",
       "      <td>1</td>\n",
       "      <td>0</td>\n",
       "      <td>185</td>\n",
       "      <td>1</td>\n",
       "      <td>330</td>\n",
       "      <td>1</td>\n",
       "      <td>0</td>\n",
       "      <td>0</td>\n",
       "      <td>1</td>\n",
       "      <td>0</td>\n",
       "      <td>0</td>\n",
       "      <td>1</td>\n",
       "      <td>1</td>\n",
       "      <td>0</td>\n",
       "    </tr>\n",
       "    <tr>\n",
       "      <th>3</th>\n",
       "      <td>30</td>\n",
       "      <td>0</td>\n",
       "      <td>1476</td>\n",
       "      <td>1</td>\n",
       "      <td>1</td>\n",
       "      <td>199</td>\n",
       "      <td>4</td>\n",
       "      <td>-1</td>\n",
       "      <td>0</td>\n",
       "      <td>0</td>\n",
       "      <td>1</td>\n",
       "      <td>0</td>\n",
       "      <td>0</td>\n",
       "      <td>0</td>\n",
       "      <td>1</td>\n",
       "      <td>0</td>\n",
       "      <td>0</td>\n",
       "    </tr>\n",
       "    <tr>\n",
       "      <th>4</th>\n",
       "      <td>59</td>\n",
       "      <td>0</td>\n",
       "      <td>0</td>\n",
       "      <td>1</td>\n",
       "      <td>0</td>\n",
       "      <td>226</td>\n",
       "      <td>1</td>\n",
       "      <td>-1</td>\n",
       "      <td>0</td>\n",
       "      <td>0</td>\n",
       "      <td>1</td>\n",
       "      <td>0</td>\n",
       "      <td>0</td>\n",
       "      <td>1</td>\n",
       "      <td>0</td>\n",
       "      <td>0</td>\n",
       "      <td>0</td>\n",
       "    </tr>\n",
       "  </tbody>\n",
       "</table>\n",
       "</div>"
      ],
      "text/plain": [
       "   age  default  balance  housing  loan  duration  campaign  pdays  previous  \\\n",
       "0   30        0     1787        0     0        79         1     -1         0   \n",
       "1   33        0     4789        1     1       220         1    339         4   \n",
       "2   35        0     1350        1     0       185         1    330         1   \n",
       "3   30        0     1476        1     1       199         4     -1         0   \n",
       "4   59        0        0        1     0       226         1     -1         0   \n",
       "\n",
       "   success  marital_married  marital_single  education_primary  \\\n",
       "0        0                1               0                  1   \n",
       "1        0                1               0                  0   \n",
       "2        0                0               1                  0   \n",
       "3        0                1               0                  0   \n",
       "4        0                1               0                  0   \n",
       "\n",
       "   education_secondary  education_tertiary  contact_cellular  \\\n",
       "0                    0                   0                 1   \n",
       "1                    1                   0                 1   \n",
       "2                    0                   1                 1   \n",
       "3                    0                   1                 0   \n",
       "4                    1                   0                 0   \n",
       "\n",
       "   contact_telephone  \n",
       "0                  0  \n",
       "1                  0  \n",
       "2                  0  \n",
       "3                  0  \n",
       "4                  0  "
      ]
     },
     "execution_count": 13,
     "metadata": {},
     "output_type": "execute_result"
    }
   ],
   "source": [
    "bank_data_with_dummies.drop(['marital_divorced','education_unknown','contact_unknown'], axis = 1, inplace=True)\n",
    "bank_data_with_dummies.head()"
   ]
  },
  {
   "cell_type": "markdown",
   "metadata": {},
   "source": [
    "## Parameters of the Classification models\n",
    "\n",
    "Every classification model has set of parameters that need to be set before the model can be learned. In the folllowing we explain a couple of important parameters for Logistic Regression and Decision Tree Classification\n",
    "\n",
    "* **Logistic Regression**: When you are running logistic regression, which is very similar to multiple linear regression, having a lot of input variables can lead to overfit in the data. Hence, hence there number of ways to reduce the number of input variables used in the logistic regression. These methods are called **variable selection** methods. One classic machine learning method to do the variable selection with the data is through **regularization**. You can think of regularization as selecting only a subset of input features that can be used in the logistic regression. Rather than doing manually, regularization is a statistically rigorous way of doing the **variable selection**. There are two parameters with respect to regularization in LogisticRegression classifier. The main idea of these parameters is to **penalize models the use more of input variables** in the logistic regression\n",
    "    * **penalty**: This is a kind of penalty you wish to apply. The most common ones are ['l1','l2']. \n",
    "    * **C**: The weight that needs to be given for regularization. The more the value of C, the more preference for using more input variables. The smaller the value of C, the stronger the regularization and hence less input variables is preferred. The most common values are from [0.0001, 0.001, 0.01, 0.1, 1, 10, 100, 1000, 10000] (smaller number = smaller number of elements preferred in the model)\n",
    "    \n",
    "    \n",
    "* **Decision Tree**: Recollect decision tree is building a tree with increasing depth. The two important parameters to set are \n",
    "    * **max_depth**: How deep should the decision tree be built. Usually, depends on the data and most common values are [3,4,5]\n",
    "    * **max_features**: How many features should be considered when splitting a decision tree node. The most common values are ['auto','log2', None]           (none = all of the features)"
   ]
  },
  {
   "cell_type": "markdown",
   "metadata": {},
   "source": [
    "## Activity\n",
    "\n",
    "Create LogisticRegression and DecisionTreeClassifier for various parameter choices. **Which parameter combination has best accuracy score for**? Select the model parameter that has good accuracy on the test data. \n",
    "\n",
    "**Important Note**: This way of selecting the model parameters is strongly recommended against. This is only for learning. Look below cross-validation technique to select the right model parameters. \n",
    "\n",
    "\n",
    "An example of to create a model with certain parameters is shown below. \n",
    "\n",
    "```python\n",
    "# Logistic regression model with penalty = 'l1' and the weight of penalization C = 1\n",
    "log_reg_with_parameter = LogisticRegression(class_weight='balanced', penalty='l1', C= 1)\n",
    "```\n",
    "\n",
    "Use `bank_data_with_dummies` as your starting dataset. Remember to do all the steps of the classification and choose the model that has the highest accuracy. Remember the outcome variable of interest is 'success'. \n",
    "\n",
    "First step is done for you. "
   ]
  },
  {
   "cell_type": "code",
   "execution_count": 14,
   "metadata": {
    "collapsed": true
   },
   "outputs": [],
   "source": [
    "# Step 1: Split the input variables (X) and outcome variable (Y)\n",
    "\n",
    "bank_dummies_X = bank_data_with_dummies.drop(['success'], axis = 1)\n",
    "bank_dummies_Y = bank_data_with_dummies['success']"
   ]
  },
  {
   "cell_type": "code",
   "execution_count": 17,
   "metadata": {
    "collapsed": true
   },
   "outputs": [],
   "source": [
    "# Step 2: Split into training and test data\n",
    "bank_dum_train_X, bank_dum_test_X, bank_dum_train_Y, bank_dum_test_Y = train_test_split(bank_dummies_X, bank_dummies_Y, \n",
    "                                                                                       random_state=37,\n",
    "                                                                                       train_size = 0.7)"
   ]
  },
  {
   "cell_type": "code",
   "execution_count": 31,
   "metadata": {},
   "outputs": [
    {
     "data": {
      "text/plain": [
       "0.80103168754605747"
      ]
     },
     "execution_count": 31,
     "metadata": {},
     "output_type": "execute_result"
    }
   ],
   "source": [
    "# Step 3a: Learn the classifier with various parameters on the training data for Logistic Regression.  \n",
    "# Try these combinations\n",
    "\n",
    "#penalty = 'l1', C = 0.1; Accuracy Test = 0.80545320560058953\n",
    "# penalty = 'l1', C = 1; Accuracy Test = 0.80324244657332355\n",
    "# penalty = 'l1', C = 10; Accuracy Test = 0.80103168754605747\n",
    "# penalty = 'l2', C = 0.1; Accuracy Test = 0.80250552689756816\n",
    "# penalty = 'l2', C = 1; Accuracy Test = 0.80250552689756816\n",
    "# penalty = 'l2', C = 10; Accuracy Test = 0.80103168754605747\n",
    "\n",
    "#create the model\n",
    "log_reg_model_parameter = LogisticRegression(class_weight = 'balanced', penalty ='l2', C = 10)\n",
    "\n",
    "#learn from the training data\n",
    "log_reg_model_parameter.fit(bank_dum_train_X, bank_dum_train_Y)\n",
    "\n",
    "#predict on the test data\n",
    "bank_dum_predict_Y = log_reg_model_parameter.predict(bank_dum_test_X)\n",
    "\n",
    "#Verify the accuracy of the model \n",
    "sklmetrics.accuracy_score(bank_dum_test_Y, bank_dum_predict_Y)"
   ]
  },
  {
   "cell_type": "code",
   "execution_count": 42,
   "metadata": {
    "scrolled": true
   },
   "outputs": [
    {
     "data": {
      "text/plain": [
       "0.77745025792188649"
      ]
     },
     "execution_count": 42,
     "metadata": {},
     "output_type": "execute_result"
    }
   ],
   "source": [
    "# Step 3b: Learn the classifier with various parameters on the training data for Decision Tree. \n",
    "# Try these combinations\n",
    "\n",
    "# max_depth = 2, max_features = 'auto'; Accuracy Test = 0.71333824613117169\n",
    "# max_depth = 3, max_features = 'auto'; Accuracy Test = 0.77745025792188649\n",
    "# max_depth = 2, max_features = 'log2'; Accuracy Test = 0.57184966838614593 \n",
    "# max_depth = 3, max_features = 'log2'; Accuracy Test = 0.52689756816507005\n",
    "# max_depth = 2, max_features = None; Accuracy Test = 0.65143699336772287\n",
    "# max_depth = 3, max_features = None; Accuracy Test = 0.87103905674281501\n",
    "\n",
    "#create the model\n",
    "dec_tree_model_parameter = DecisionTreeClassifier(class_weight = 'balanced', max_depth = 3, max_features = 'auto')\n",
    "\n",
    "#learn from the training data\n",
    "dec_tree_model_parameter.fit(bank_dum_train_X, bank_dum_train_Y)\n",
    "\n",
    "#predict on the test data\n",
    "bank_dum_predict_Y = dec_tree_model_parameter.predict(bank_dum_test_X)\n",
    "\n",
    "#Verify the accuracy of the model \n",
    "sklmetrics.accuracy_score(bank_dum_test_Y, bank_dum_predict_Y)"
   ]
  },
  {
   "cell_type": "code",
   "execution_count": null,
   "metadata": {
    "collapsed": true
   },
   "outputs": [],
   "source": [
    "# Step 4: Use the test data to predict the Y and then print the accuracy_score for Logistic Regression and Decision Tree\n"
   ]
  },
  {
   "cell_type": "markdown",
   "metadata": {},
   "source": [
    "<div class=\"alert alert-block alert-danger\">\n",
    "<h5>DO NOT SELECT THE PARAMETERS BASED ON TEST DATA </h5>\n",
    "<p> We have to rather use cross validation techniques discussed below</p>\n",
    "</div> \n"
   ]
  },
  {
   "cell_type": "markdown",
   "metadata": {},
   "source": [
    "## Plotting the Decision Tree Classifier\n",
    "\n",
    "In order for the below visualization of the tree to work, you need to be working on a **Windows** machine and place the unzipped files from 'graphviz_bin.zip' (available in Sakai) in the 'data' folder. \n"
   ]
  },
  {
   "cell_type": "code",
   "execution_count": 43,
   "metadata": {
    "collapsed": true
   },
   "outputs": [],
   "source": [
    "import subprocess\n",
    "def visualize_tree(tree, feature_names):\n",
    "    \"\"\"Create tree png using graphviz.\n",
    "\n",
    "    Args\n",
    "    ----\n",
    "    tree -- scikit-learn DecsisionTree.\n",
    "    feature_names -- list of feature names.\n",
    "    \"\"\"\n",
    "    with open(\"./data/dt.dot\", 'w') as f:\n",
    "        skl.tree.export_graphviz(tree, out_file=f,\n",
    "                        feature_names=feature_names)\n",
    "\n",
    "    command = [\".\\\\data\\\\graphviz_bin\\\\dot.exe\", \"-Tpng\", \"./data/dt.dot\", \"-o\", \"./data/dt.png\"]\n",
    "    #command = [\"mkdir\",\"test\"]\n",
    "    try:\n",
    "        subprocess.check_call(command, shell=True)\n",
    "    except ValueError:\n",
    "        print(\"Could not run dot, ie graphviz, to \"\n",
    "             \"produce visualization\")"
   ]
  },
  {
   "cell_type": "code",
   "execution_count": 44,
   "metadata": {},
   "outputs": [
    {
     "data": {
      "text/plain": [
       "DecisionTreeClassifier(class_weight=None, criterion='gini', max_depth=2,\n",
       "            max_features=None, max_leaf_nodes=None,\n",
       "            min_impurity_split=1e-07, min_samples_leaf=1,\n",
       "            min_samples_split=2, min_weight_fraction_leaf=0.0,\n",
       "            presort=False, random_state=None, splitter='best')"
      ]
     },
     "execution_count": 44,
     "metadata": {},
     "output_type": "execute_result"
    }
   ],
   "source": [
    "dec_tree_model_viz = DecisionTreeClassifier(max_depth=2, max_features=None)\n",
    "dec_tree_model_viz.fit(bank_dum_train_X, bank_dum_train_Y)"
   ]
  },
  {
   "cell_type": "code",
   "execution_count": 45,
   "metadata": {},
   "outputs": [
    {
     "data": {
      "image/png": "[encoded data removed]",
      "text/plain": [
       "<IPython.core.display.Image object>"
      ]
     },
     "execution_count": 45,
     "metadata": {},
     "output_type": "execute_result"
    }
   ],
   "source": [
    "visualize_tree(dec_tree_model_viz, bank_dum_train_X.columns)\n",
    "from IPython.display import Image\n",
    "Image(\"./data/dt.png\")"
   ]
  },
  {
   "cell_type": "markdown",
   "metadata": {},
   "source": [
    "#### Interpreting the decision tree\n",
    "\n",
    "* Each node has a condition, the path to the left is the True path and the path to the right is a False path for that condition. \n",
    "* The value = [2780, 384] = [Number of observations of Class 0 (failure), Number of Observations of Class 1 (success] \n",
    "* As you can see, not all end nodes (no further path) have a clear answer. Some nodes are more ambigous (value = [49, 79]) compared to other nodes (value = [1709, 54]). In the node with value = [1709, 54], you can directly predict it'll be Class 0 (that is a failure). \n",
    "* Note sometimes the **value has fractions** for each class. This will happen when you specifiy `class_weight='balanced'` or when you have missing data. You can still compare the two fractions decide which class you want to predict. "
   ]
  },
  {
   "cell_type": "markdown",
   "metadata": {},
   "source": [
    "**Important Note**\n",
    "\n",
    "If you want to view the image outside the Jupyter, you can go to the 'data' directory and you will find dt.png image file which is a visualization of the decision tree. "
   ]
  },
  {
   "cell_type": "markdown",
   "metadata": {
    "collapsed": true
   },
   "source": [
    "## Cross Validation to Select the Parameters of a Model using `GridSearchCV()`\n"
   ]
  },
  {
   "cell_type": "markdown",
   "metadata": {},
   "source": [
    "As we said above, selecting the model parameters has to be done in a cross validation manner. Refer to lecture notes (pdf, pptx) in Sakai for more understanding on cross validation. \n",
    "\n",
    "Scikit-Learn provides a wide variety of cross validation techniques, but the most common way is using `GridSearchCV()` method.\n",
    "\n",
    "**GridSearchCV()** is the process of searching through every possible combination of parameters and selecting the best parameter combination. For example\n",
    "\n",
    "```python\n",
    "params = {'max_depth':[2,3],\n",
    "          'max_features':['auto','log2',None]}\n",
    "```\n",
    "\n",
    "Then you have 6 different combination of parameters listed below. Hence, its called grid search. \n",
    "* max_depth = 2, max_features = 'auto'\n",
    "* max_depth = 3, max_features = 'auto'\n",
    "* max_depth = 2, max_features = 'log2'\n",
    "* max_depth = 3, max_features = 'log2'\n",
    "* max_depth = 2, max_features = None\n",
    "* max_depth = 3, max_features = None\n",
    "\n",
    "** Finally you can select the best model, based on a metric (usually accuracy).** \n",
    "\n",
    "\n",
    "`GridSearchCV()` is very useful method that automates this process of selecting the model with the best set of parameters. The method has four main parameters\n",
    "\n",
    "* **estimator**: The classifier you want to learn the parameters, LogisticRegression, DecisionTreeClassifier, etc. \n",
    "* **param_grid**: Dictionary (dict) of parameters and their values to be searched over. \n",
    "* **cv**: How many folds of classification you want to use. Usually 3 for smaller data and 10 for large data. \n",
    "* **n_jobs**: Usually you specify this as 1. You can parallelize the process of this search by specifying a value more than 1. **Do not have the n_jobs set to more than 3**, for the first time users. Especially, on a laptop or lab machine or on Vocareum, you will end up stalling the machine and it has to be rebooted. For more experienced students, in the class, check the number of processing cores of the machine before you increase the number.\n"
   ]
  },
  {
   "cell_type": "code",
   "execution_count": 46,
   "metadata": {
    "collapsed": true
   },
   "outputs": [],
   "source": [
    "from sklearn.model_selection import GridSearchCV"
   ]
  },
  {
   "cell_type": "code",
   "execution_count": 51,
   "metadata": {},
   "outputs": [
    {
     "name": "stdout",
     "output_type": "stream",
     "text": [
      "{'max_depth': 3, 'max_features': None}\n"
     ]
    }
   ],
   "source": [
    "# For decision tree based classification\n",
    "# this doesn't use the test data\n",
    "\n",
    "\n",
    "# The model you want to set the parameters for\n",
    "model = DecisionTreeClassifier(class_weight='balanced')\n",
    "\n",
    "# The parameters to search over for the model\n",
    "params = {'max_depth':[2,3,4],\n",
    "          'max_features':['auto','log2',None]}\n",
    "\n",
    "\n",
    "# Prepare the GridSearch for cross validation\n",
    "grid_search_dec_tree = GridSearchCV(model, # Note the model is DecisionTreeClassifier as stated above\n",
    "                                    param_grid=params, # The parameters to search over. \n",
    "                                   cv=3, # How many hold out sets to use\n",
    "                                   n_jobs = 1 # Number of parallel processes to run. \n",
    "                                   )\n",
    "\n",
    "# Do the cross validation on the training data \n",
    "grid_search_dec_tree.fit(bank_dum_train_X, bank_dum_train_Y)\n",
    "\n",
    "# Select the best model\n",
    "\n",
    "best_dec_tree_cv = grid_search_dec_tree.best_estimator_\n",
    "\n",
    "# Print the best parameter combination \n",
    "print(grid_search_dec_tree.best_params_)"
   ]
  },
  {
   "cell_type": "markdown",
   "metadata": {},
   "source": [
    "**Important Notes**\n",
    "1. Usually for large datasets, the above `GridSearchCV` method takes a lot of time. You might have to make sure, you run with limited set of parameters, before you increase the number of possible values for the parameters. \n",
    "2. Everytime you run the GridSearchCV, you might find a different combination of parameters to be the best one. This is another issue with **consistency** of machine learning algorithms. Addressing this is out of the scope for this course. "
   ]
  },
  {
   "cell_type": "code",
   "execution_count": 48,
   "metadata": {},
   "outputs": [
    {
     "name": "stdout",
     "output_type": "stream",
     "text": [
      "0.772291820192\n",
      "[[957 263]\n",
      " [ 46  91]]\n"
     ]
    },
    {
     "data": {
      "text/plain": [
       "<matplotlib.text.Text at 0x282e12a8860>"
      ]
     },
     "execution_count": 48,
     "metadata": {},
     "output_type": "execute_result"
    },
    {
     "data": {
      "image/png": "[encoded data removed]",
      "text/plain": [
       "<matplotlib.figure.Figure at 0x282e1272278>"
      ]
     },
     "metadata": {},
     "output_type": "display_data"
    }
   ],
   "source": [
    "# Finally test the performance of the best model on the test data\n",
    "\n",
    "bank_dum_pred_Y = best_dec_tree_cv.predict(bank_dum_test_X)\n",
    "\n",
    "#Print the accuracy \n",
    "print(sklmetrics.accuracy_score(bank_dum_test_Y, bank_dum_pred_Y))\n",
    "\n",
    "conf_mat = sklmetrics.confusion_matrix(bank_dum_test_Y, bank_dum_pred_Y)\n",
    "print(conf_mat)\n",
    "\n",
    "# Confusion matrix\n",
    "sns.heatmap(conf_mat, fmt='d',square=True, annot=True, cbar = False, xticklabels = ['Failure','Success'], \n",
    "                                                            yticklabels = ['Failure','Success'])\n",
    "plt.xlabel(\"Predicted Value\")\n",
    "plt.ylabel(\"True Value\")"
   ]
  },
  {
   "cell_type": "markdown",
   "metadata": {},
   "source": [
    "### Understanding the feature importance of the Decision Tree"
   ]
  },
  {
   "cell_type": "code",
   "execution_count": 49,
   "metadata": {
    "collapsed": true
   },
   "outputs": [],
   "source": [
    "# Defining a function to plot feature importance for trees\n",
    "# INPUT: Used for Tree based Classifier\n",
    "#        Feature Names\n",
    "# OUTPUT: A plot of top most features\n",
    "\n",
    "def plot_feature_importance(model, Xnames, cls_nm = None):\n",
    "\n",
    "    # Measuring important features\n",
    "    imp_features = pd.DataFrame(np.column_stack((Xnames, model.feature_importances_)), columns = ['feature', 'importance'])\n",
    "    imp_features[['importance']] = imp_features[['importance']].astype(float)\n",
    "    imp_features[['abs_importance']] = imp_features[['importance']].abs()\n",
    "    # Sort the features based on absolute value of importance\n",
    "    imp_features = imp_features.sort_values(by = ['abs_importance'], ascending = [1])\n",
    "    \n",
    "    # Plot the feature importances of the forest\n",
    "    plt.figure(figsize=(10,6))\n",
    "    plt.title(cls_nm + \" - Feature Importance\")\n",
    "    plt.barh(range(imp_features.shape[0]), imp_features['importance'],\n",
    "            color=\"b\", align=\"center\")\n",
    "    plt.yticks(range(imp_features.shape[0]), imp_features['feature'], )\n",
    "    plt.ylim([-1, imp_features.shape[0]])\n",
    "    plt.xlabel('Importance')\n",
    "    plt.ylabel('Feature')\n",
    "    plt.tight_layout() \n",
    "    plt.savefig(cls_nm + \"_feature_imp.png\", bbox_inches='tight')\n",
    "    plt.show()"
   ]
  },
  {
   "cell_type": "code",
   "execution_count": 50,
   "metadata": {},
   "outputs": [
    {
     "data": {
      "image/png": "[encoded data removed]",
      "text/plain": [
       "<matplotlib.figure.Figure at 0x282e134e4e0>"
      ]
     },
     "metadata": {},
     "output_type": "display_data"
    }
   ],
   "source": [
    "plot_feature_importance(best_dec_tree_cv, bank_dum_train_X.columns, cls_nm='Best CV Decision Tree')"
   ]
  },
  {
   "cell_type": "markdown",
   "metadata": {},
   "source": [
    "## Activity\n",
    "\n",
    "Learn the parameters of LogisticRegression classifier using `GridSearchCV()` method. \n",
    "1. Specify the dictionary of the parameters for LogisticRegression and the values \n",
    "2. Set GridSearchCV for LogisticRegression classifier. \n",
    "    * Set cv=10\n",
    "3. Use the training data and fit the GridSearchCV so that it learns the model and the best parameter\n",
    "4. Select the best model\n",
    "5. Verify the accuracy and confusion matrix on the testing data. \n",
    "6. Present the importance of each characteristic for Logistic Regression using the `plot_feature_importance_coeff` method below. "
   ]
  },
  {
   "cell_type": "code",
   "execution_count": null,
   "metadata": {
    "collapsed": true
   },
   "outputs": [],
   "source": []
  },
  {
   "cell_type": "code",
   "execution_count": null,
   "metadata": {
    "collapsed": true
   },
   "outputs": [],
   "source": []
  },
  {
   "cell_type": "markdown",
   "metadata": {},
   "source": [
    "### Understanding the feature importance of the Logistic Regression"
   ]
  },
  {
   "cell_type": "code",
   "execution_count": null,
   "metadata": {
    "collapsed": true
   },
   "outputs": [],
   "source": [
    "# Defining a function to plot coefficients as feature importance\n",
    "# INPUT: Used for Logistic Regression Classifier\n",
    "#        Feature Names\n",
    "# OUTPUT: A plot of top most Coefficients\n",
    "def plot_feature_importance_coeff(model, Xnames, cls_nm = None):\n",
    "\n",
    "    imp_features = pd.DataFrame(np.column_stack((Xnames, model.coef_.ravel())), columns = ['feature', 'importance'])\n",
    "    imp_features[['importance']] = imp_features[['importance']].astype(float)\n",
    "    imp_features[['abs_importance']] = imp_features[['importance']].abs()\n",
    "    # Sort the features based on absolute value of importance\n",
    "    imp_features = imp_features.sort_values(by = ['abs_importance'], ascending = [1])\n",
    "    \n",
    "    # Plot the feature importances of the forest\n",
    "    plt.figure(figsize=(10,6))\n",
    "    plt.title(cls_nm + \" - Feature Importance\")\n",
    "    plt.barh(range(imp_features.shape[0]), imp_features['importance'],\n",
    "            color=\"b\", align=\"center\")\n",
    "    plt.yticks(range(imp_features.shape[0]), imp_features['feature'], )\n",
    "    plt.ylim([-1, imp_features.shape[0]])\n",
    "    plt.xlabel('Importance')\n",
    "    plt.ylabel('Feature')\n",
    "    plt.tight_layout() \n",
    "    plt.savefig(cls_nm + \"_feature_imp.png\", bbox_inches='tight')\n",
    "    plt.show()"
   ]
  },
  {
   "cell_type": "code",
   "execution_count": null,
   "metadata": {
    "collapsed": true
   },
   "outputs": [],
   "source": []
  },
  {
   "cell_type": "markdown",
   "metadata": {},
   "source": [
    "## Metrics for evaluating the performance of classification\n",
    "\n",
    "Until now, we have been always using `accuracy_score` to verif the performance of the classification on the test data. However, in reality this is not usually the most optimal metric. There are other important metrics to use in real-world, shown below. Again, the discussion on these metrics is out of the scope for this course. \n",
    "\n",
    "1. Precision, Recall, F1 Score\n",
    "2. Area Under the Curve (AUC) of Receiver Operating Characteristic (ROC) curve\n",
    "3. Area under Precision-Recall Curve\n",
    "4. Specificity and Sensitivity\n",
    "5. Positive predictive value\n",
    "6. ... many more"
   ]
  },
  {
   "cell_type": "markdown",
   "metadata": {},
   "source": [
    "\n",
    "## Many more classification techniques\n",
    "\n",
    "We discussed two basic models in this section. However, there are many other classifiers you can use to improve your classification accuracy. Below, I have provided three main classification methods (by no means they are exhaustive)\n",
    "\n",
    "* MLPClassifier: Multi Layer Perceptron model. This is a very basic model that is a primer to deep learning neural networks. \n",
    "    ```python\n",
    "    from sklearn.neural_network import MLPClassifier\n",
    "    ```\n",
    "* GradientBoostClassifier: Learns multiple trees to select the best classifier. \n",
    "    ```python\n",
    "    from sklearn.ensemble import GradientBoostClassifier\n",
    "    ```\n",
    "* RandomForestClassifier: Learns multiple trees to select the best classifier. \n",
    "    ```python\n",
    "    from sklearn.ensemble import RandomForestClassifier\n",
    "    ```\n"
   ]
  },
  {
   "cell_type": "markdown",
   "metadata": {},
   "source": [
    "# Clustering with K-Means on a Toy Example"
   ]
  },
  {
   "cell_type": "markdown",
   "metadata": {},
   "source": [
    "K-Means [visualization](https://www.naftaliharris.com/blog/visualizing-k-means-clustering/) is available for you guys to see how k-means works. "
   ]
  },
  {
   "cell_type": "code",
   "execution_count": null,
   "metadata": {
    "collapsed": true
   },
   "outputs": [],
   "source": [
    "cluster_data = pd.read_csv(\"./data/clustering_example.csv\")\n",
    "cluster_data.head()"
   ]
  },
  {
   "cell_type": "code",
   "execution_count": null,
   "metadata": {
    "collapsed": true
   },
   "outputs": [],
   "source": [
    "fig, ax = plt.subplots(figsize = (10,8))\n",
    "ax.scatter(cluster_data['X1'], cluster_data['X2'])\n",
    "ax.set_xlabel(\"X1\")\n",
    "ax.set_ylabel(\"X2\")\n",
    "ax.set_title(\"Simple Scatter plot of the Data\")"
   ]
  },
  {
   "cell_type": "code",
   "execution_count": null,
   "metadata": {
    "collapsed": true
   },
   "outputs": [],
   "source": [
    "# Importing the KMeans clustering method\n",
    "from sklearn.cluster import KMeans\n",
    "\n",
    "# Creating the model with number of clusters defined\n",
    "model = KMeans(n_clusters=3)\n",
    "\n",
    "# Fitting the model, so that it learns the clusters in the data\n",
    "model.fit(cluster_data)\n",
    "\n",
    "# Assingning the cluster numbers to the each data point\n",
    "cluster_data['cluster'] = model.predict(cluster_data)\n",
    "cluster_data.head()"
   ]
  },
  {
   "cell_type": "code",
   "execution_count": null,
   "metadata": {
    "collapsed": true
   },
   "outputs": [],
   "source": [
    "# Plotting the clusters identified by the algorithm\n",
    "fig, ax = plt.subplots(figsize = (10,8))\n",
    "\n",
    "# The cluster number is used to color the scatter plot\n",
    "ax.scatter(cluster_data['X1'], cluster_data['X2'], c=cluster_data['cluster'], cmap = 'viridis')\n",
    "ax.set_xlabel(\"X1\")\n",
    "ax.set_ylabel(\"X2\")\n",
    "ax.set_title(\"Clusters identified by the KMeans Algorithm\")"
   ]
  }
 ],
 "metadata": {
  "kernelspec": {
   "display_name": "Python 3",
   "language": "python",
   "name": "python3"
  },
  "language_info": {
   "codemirror_mode": {
    "name": "ipython",
    "version": 3
   },
   "file_extension": ".py",
   "mimetype": "text/x-python",
   "name": "python",
   "nbconvert_exporter": "python",
   "pygments_lexer": "ipython3",
   "version": "3.6.1"
  }
 },
 "nbformat": 4,
 "nbformat_minor": 2
}
