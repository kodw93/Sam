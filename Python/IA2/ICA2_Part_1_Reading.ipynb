{
 "cells": [
  {
   "cell_type": "markdown",
   "metadata": {},
   "source": [
    "# In-Class Assignment 2 (Part 1 of 2: Readings) - 20 points\n",
    "\n",
    "<div class=\"alert alert-block alert-info\">\n",
    "\n",
    "_READ THE INSTRUCTIONS BEFORE YOU ANSWER_\n",
    "</div>\n",
    "### Instructions\n",
    "\n",
    " 1.  This part of the homework is to make sure you read the assigned readings and understood the concepts. \n",
    " 2.  Write your answers in the cell below each question. I have already made these cells as _Markdown_, but if you need to add more cells to your answer, make sure you select them as _Markdown_ from the top. \n",
    " 3. **For the questions based on code, I strongly recommend practicing to answer the questions by reading through the code without executing in a cell or using pythontutor. In the exam, in section 1 (which is paper based) you will have to answer them without a computer.** \n"
   ]
  },
  {
   "cell_type": "markdown",
   "metadata": {},
   "source": [
    "<div class=\"alert alert-block alert-warning\">\n",
    " \n",
    "<h4> Important Note </h4>\n",
    "<p> </p>\n",
    "<li> For coding based questions, if you copy the code and run, it might give an error. **If you just report that it gives an error, you will not receive any points.** Like instructed above, answer the question based on your logical understanding and not by executing the code. </li>\n",
    "\n",
    "</div>"
   ]
  },
  {
   "cell_type": "markdown",
   "metadata": {},
   "source": [
    "## Question 1 (2 points)\n",
    "\n",
    "What is the difference between np.nansum() and np.sum()? Provide a simple examle. "
   ]
  },
  {
   "cell_type": "markdown",
   "metadata": {},
   "source": [
    "The difference happens when the numpy array has missing values (np.nan)\n",
    "\n",
    "np.nansum() sums the elements of an array treating the missing values (np.nan) values as 0 \n",
    "\n",
    "np.sum() sums the elements and if there are any np.nan values, the result is np.nan. \n",
    "\n",
    "arr = np.array([1,2,np.nan,4]\n",
    "print(np.nansum(arr)) # This prints 7\n",
    "print(np.sum(arr)) # This prints nan\n"
   ]
  },
  {
   "cell_type": "markdown",
   "metadata": {},
   "source": [
    "## Question 2 (4 points)\n",
    "\n",
    "The following are the two Python codes written by Adam and Eve. \n",
    "\n",
    "**Adam's code**\n",
    "```python\n",
    "import numpy as np\n",
    "arr = np.arange(0,10000,3)\n",
    "sq_arr = np.empty(len(arr), dtype=int)\n",
    "for index, value in enumerate(arr):\n",
    "    sq_arr[index] = value**2\n",
    "\n",
    "```\n",
    "**Eve's code**\n",
    "```python\n",
    "import numpy as np\n",
    "arr = np.arange(0,10000,3)\n",
    "sq_arr = arr**2\n",
    "```\n",
    "\n",
    "\n",
    "* Do Adam's and Eve's code acheive the same values in `sq_arr`? \n",
    "    * If no, how do you fix it? \n",
    "    * If yes, whose code you prefer and why? List all the reasons. "
   ]
  },
  {
   "cell_type": "markdown",
   "metadata": {},
   "source": [
    "They both achieve the same values in `sq_arr`. \n",
    "\n",
    "* Eve's code is preferred because of the following reason\n",
    "    * The code is concise\n",
    "    * It takes less time to execute it as we are using NumPy's universal functions. \n",
    "    \n",
    "Look more below, Adam's code takes $724 \\mu s $, while Eve's code just takes $5.87 \\mu s$. "
   ]
  },
  {
   "cell_type": "code",
   "execution_count": 4,
   "metadata": {},
   "outputs": [
    {
     "name": "stdout",
     "output_type": "stream",
     "text": [
      "1000 loops, best of 3: 724 µs per loop\n"
     ]
    }
   ],
   "source": [
    "%%timeit \n",
    "import numpy as np\n",
    "arr = np.arange(0,10000,3)\n",
    "sq_arr = np.empty(len(arr), dtype=int)\n",
    "for index, value in enumerate(arr):\n",
    "    sq_arr[index] = value**2"
   ]
  },
  {
   "cell_type": "code",
   "execution_count": 3,
   "metadata": {},
   "outputs": [
    {
     "name": "stdout",
     "output_type": "stream",
     "text": [
      "The slowest run took 7.81 times longer than the fastest. This could mean that an intermediate result is being cached.\n",
      "100000 loops, best of 3: 5.87 µs per loop\n"
     ]
    }
   ],
   "source": [
    "%%timeit\n",
    "import numpy as np\n",
    "arr = np.arange(0,10000,3)\n",
    "sq_arr = arr**2"
   ]
  },
  {
   "cell_type": "markdown",
   "metadata": {},
   "source": [
    "## Question 3 (3 points)\n",
    "\n",
    "What is the output of the following Python code? **Explain briefly how the output was achieved.**\n",
    "\n",
    "```python\n",
    "import pandas as pd\n",
    "ser1 = pd.Series([4,10,20, 8] , index=[ 'a' , 'b' , 'c', 'd'])\n",
    "ser2 = pd.Series([2, 5, 2, 4] , index=[ 'd' , 'b' , 'a', 'c'] )\n",
    "\n",
    "div_ser = ser1 / ser2\n",
    "print(\"The mean of elements in the divided series is {}\".format(div_ser.mean()))\n",
    "```"
   ]
  },
  {
   "cell_type": "markdown",
   "metadata": {},
   "source": [
    "**Index alignment**, the division is done in such a way that the elements of `ser1` and `ser2` are divided that have the same index. Therefore `div_ser` has elements 2, 2, 5, 4. Hence the mean of this array is **3.25**. Hence the output is \n",
    "\n",
    "The mean of elements in the divided series is 3.25"
   ]
  },
  {
   "cell_type": "markdown",
   "metadata": {},
   "source": [
    "## Question 4 (2 points)\n",
    "\n",
    "Let us say we have a `DataFrame` (`df1`) as shown below\n",
    "\n",
    "<center>\n",
    "**df1**\n",
    "</center>\n",
    "\n",
    "| |StudentID | Name   | Score|                         \n",
    "|-|----------|--------|------|\n",
    "|0|9021      |Sam     |80    |\n",
    "|1|9012      |Nelson  |91    |\n",
    "|2|8221      |Katie   |84    |\n",
    "|3|9851      |Daniel  |93    |\n",
    "|4|2232      |Jack    |45    |\n",
    "\n",
    "\n",
    "Provide Python code to create the following `DataFrame` (`df2`) from `df1`\n",
    "\n",
    "<center>\n",
    "**df2**\n",
    "</center>\n",
    "\n",
    "| |StudentID | Score|                         \n",
    "|-|----------|------|\n",
    "|0|9021      |80    |\n",
    "|1|9012      |91    |\n",
    "|2|8221      |84    |\n",
    "|3|9851      |93    |\n",
    "|4|2232      |45    |\n"
   ]
  },
  {
   "cell_type": "markdown",
   "metadata": {},
   "source": [
    "Anyone of the following ways works\n",
    "\n",
    "* df2 = df1[[\"StudentID\", \"Score\"]]\n",
    "\n",
    "* df2 = df1.drop(\"Name\", axis = 1)\n",
    "\n"
   ]
  },
  {
   "cell_type": "markdown",
   "metadata": {},
   "source": [
    "## Question 5: Handling Missing Data (6 points)\n",
    "\n",
    "Let us say we have a `DataFrame` (`df1`) as shown below\n",
    "\n",
    "\n",
    "| |StudentID | Name   | Score|                         \n",
    "|-|----------|--------|------|\n",
    "|0|9021      |Sam     |80    |\n",
    "|1|9012      |NaN     |91    |\n",
    "|2|8221      |NaN     |NaN   |\n",
    "|3|9851      |Daniel  |NaN   |\n",
    "|4|2232      |Jack    |45    |\n",
    "|5|5454      |Mark    |93    |\n",
    "|6|NaN       |NaN     |NaN   |\n",
    "\n",
    "\n",
    "What are the outputs of the following program? ** Explain briefly**\n",
    "\n",
    "```python\n",
    "print( len(df1.dropna(thresh = 2)   )  )\n",
    "print( len(df1.dropna(how = 'all')  )  )\n",
    "print( len(df1.fillna(0).dropna()   )  )\n",
    "print( len(df1.dropna() ) )\n",
    "print( len(df1) )\n",
    "df1.dropna(inplace=True)\n",
    "print( len(df1) )\n",
    "```\n",
    "\n",
    "I reccomend to **not** waste time in creating above `DataFrame` and trying to execute the code above, instead understand the keyword arguments and answer the question. "
   ]
  },
  {
   "cell_type": "markdown",
   "metadata": {},
   "source": [
    "The output of the print statements is\n",
    "\n",
    "5\n",
    "6\n",
    "7\n",
    "3\n",
    "7\n",
    "3\n",
    "\n",
    "First thing to note is that dropna() does not modify the df1 unless you specificy the keyword `inplace=True`. \n",
    "\n",
    "* `thresh=2` says that drop the row only if there are more than two missing values in a row, so it drops row index 2 and row index 6\n",
    "* `how = \"all\"` says to drop only if all of the contents of a row are missing, so it only drops row index 6\n",
    "* When you fill the missing values with 0 and then dropna has nothing else to do so it returns all rows. \n",
    "* Default dropna() drops any row with missing values, so only three rows are left. \n",
    "* LIke I said above, dropna() doesn't modify the contents of `df1`, so it still has all elements. \n",
    "* Now since, `df1.dropna(inplace=True)`, the `df1` gets modified and hence we have length as only 3 rows. "
   ]
  },
  {
   "cell_type": "code",
   "execution_count": 6,
   "metadata": {},
   "outputs": [
    {
     "name": "stdout",
     "output_type": "stream",
     "text": [
      "5\n",
      "6\n",
      "7\n",
      "3\n",
      "7\n",
      "3\n"
     ]
    }
   ],
   "source": [
    "import pandas as pd\n",
    "df1 = pd.DataFrame({'StudentID': [9012,9021,8221,9851,2232,5454, None], \n",
    "                     'Name': [None,'Sam',None,'Daniel','Jack', 'Mark',None], \n",
    "                     'Score': [91,80, None, None, 45, 93, None]})\n",
    "                     \n",
    "print( len(df1.dropna(thresh = 2)   )  )\n",
    "print( len(df1.dropna(how = 'all')  )  )\n",
    "print( len(df1.fillna(0).dropna()   )  )\n",
    "print( len(df1.dropna() ) )\n",
    "print( len(df1) )\n",
    "df1.dropna(inplace=True)\n",
    "print( len(df1) )"
   ]
  },
  {
   "cell_type": "markdown",
   "metadata": {},
   "source": [
    "## Question 6: Merging DataFrames (3 points)\n",
    "\n",
    "Let us say we have two `DataFrame`s (`midterm_df`, `final_df`) as shown below\n",
    "\n",
    "<center>\n",
    "**\n",
    "midterm_df\n",
    "**\n",
    "</center>\n",
    "\n",
    "| | Name   | Score|                         \n",
    "|-|--------|------|\n",
    "|0|Sam     |80    |\n",
    "|1|Nelson  |91    |\n",
    "|2|Katie   |84    |\n",
    "|3|Daniel  |93    |\n",
    "|4|Jack    |45    |\n",
    "<br><br>\n",
    "  \n",
    "<center> \n",
    "**final_df**\n",
    "</center>\n",
    "\n",
    "| | Name   | Score|                         \n",
    "|-|--------|------|\n",
    "|0|Sam     |90    |\n",
    "|1|Nelson  |95    |\n",
    "|2|Katie   |89    |\n",
    "|3|Daniel  |96    |\n",
    "|4|Jack    |78    |\n",
    "\n",
    "\n",
    "Provide Python code to create the following merged `DataFrame` (`merged_df`) \n",
    "\n",
    "| | Name   | Score_midterm| Score_final|                         \n",
    "|-|--------|--------------|------|\n",
    "|0|Sam     |80            |90    |\n",
    "|1|Nelson  |91            |95    |\n",
    "|2|Katie   |84            |89    |\n",
    "|3|Daniel  |93            |96    |\n",
    "|4|Jack    |45            |78    |\n",
    "\n",
    "#### Hint:\n",
    "* Think on which column you want to merge the two DataFrames and how you want to handle the rest of the columns using keyword arguments '`on`' and '`suffixes`' respectively to the `pd.merge()` function. "
   ]
  },
  {
   "cell_type": "markdown",
   "metadata": {},
   "source": [
    "merged_df = pd.merge(midterm_df, final_df, on=\"Name\", suffixes = (\"_midterm\", \"_final\") )"
   ]
  }
 ],
 "metadata": {
  "kernelspec": {
   "display_name": "Python 3",
   "language": "python",
   "name": "python3"
  },
  "language_info": {
   "codemirror_mode": {
    "name": "ipython",
    "version": 3
   },
   "file_extension": ".py",
   "mimetype": "text/x-python",
   "name": "python",
   "nbconvert_exporter": "python",
   "pygments_lexer": "ipython3",
   "version": "3.6.1"
  }
 },
 "nbformat": 4,
 "nbformat_minor": 2
}
