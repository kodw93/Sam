{
 "cells": [
  {
   "cell_type": "markdown",
   "metadata": {},
   "source": [
    "# In-Class Assignment 2 (Part 2 of 2: Data Analysis) - 50 points (Autograded)\n",
    "\n"
   ]
  },
  {
   "cell_type": "markdown",
   "metadata": {},
   "source": [
    "<div class=\"alert alert-block alert-danger\">\n",
    "<h4> Instructions for Autograding </h4>\n",
    "</div> \n",
    "\n",
    "1. This homework is autograded, so you need to follow the instructions very strictly. \n",
    "2. **Points will be lost if the instructions are not followed, even though the intent of problem solving (or the solution) is right.**\n",
    "3. Each problem asks you to assign the results to a variable with specific name. These variables are used by the autograding script. \n",
    "4. For example, if the question asks to assign the number of rows in a dataframe `bball_df` to variable named `num_rows_bball` then you should use that specific variable as shown below. \n",
    "```python\n",
    "num_rows_bball = bball_df.shape[0]\n",
    "```\n",
    "5. You need to **provide the code** that assigns the value to the specific variable. \n",
    "6. You do not have to use **`for`** loops for any of the problems below. **Significant points will be lost if you do not use the UFuncs (Universal Functions) available in Pandas package**. \n",
    "7. You can check **the results of autograding by using the 'Details' menu from top right corner and clicking on the grading report**. \n",
    "8. Though you have unlimited number of sumissions, **do not waste time waiting for the grading report for every submission**. "
   ]
  },
  {
   "cell_type": "markdown",
   "metadata": {},
   "source": [
    "## Dataset \n",
    "\n",
    "In this part of the assignment you will be working with a sample from the Basket Ball statistics data. [More Info on Data](https://www.basketball-reference.com/leagues/NBA_2017_totals.html). \n",
    "\n",
    "**Look at the [link](https://www.basketball-reference.com/leagues/NBA_2017_totals.html) to understand mean of column names**"
   ]
  },
  {
   "cell_type": "markdown",
   "metadata": {},
   "source": [
    "<div class=\"alert alert-block alert-warning\">\n",
    "<h4> Make sure you run the following cell.  </h4>\n",
    "The following set up cell is used to load all the required packages. \n",
    "</div> \n"
   ]
  },
  {
   "cell_type": "code",
   "execution_count": 1,
   "metadata": {
    "collapsed": true
   },
   "outputs": [],
   "source": [
    "import numpy as np\n",
    "import pandas as pd"
   ]
  },
  {
   "cell_type": "markdown",
   "metadata": {},
   "source": [
    "## Problem 1: Load the data (3 points)\n",
    "\n",
    "\n",
    "Load the 'basketball.csv' data set and **assign 'Player' column as an index**. The CSV file is already uploaded in './data' folder. \n",
    "\n",
    "**Make sure you assign the loaded dataframe into the variable named `bball_df`**"
   ]
  },
  {
   "cell_type": "code",
   "execution_count": 2,
   "metadata": {},
   "outputs": [
    {
     "data": {
      "text/html": [
       "<div>\n",
       "<style>\n",
       "    .dataframe thead tr:only-child th {\n",
       "        text-align: right;\n",
       "    }\n",
       "\n",
       "    .dataframe thead th {\n",
       "        text-align: left;\n",
       "    }\n",
       "\n",
       "    .dataframe tbody tr th {\n",
       "        vertical-align: top;\n",
       "    }\n",
       "</style>\n",
       "<table border=\"1\" class=\"dataframe\">\n",
       "  <thead>\n",
       "    <tr style=\"text-align: right;\">\n",
       "      <th></th>\n",
       "      <th>Rk</th>\n",
       "      <th>Pos</th>\n",
       "      <th>Age</th>\n",
       "      <th>Tm</th>\n",
       "      <th>MP</th>\n",
       "      <th>FG</th>\n",
       "      <th>FGA</th>\n",
       "      <th>FT</th>\n",
       "      <th>FTA</th>\n",
       "      <th>PF</th>\n",
       "      <th>PTS</th>\n",
       "    </tr>\n",
       "    <tr>\n",
       "      <th>Player</th>\n",
       "      <th></th>\n",
       "      <th></th>\n",
       "      <th></th>\n",
       "      <th></th>\n",
       "      <th></th>\n",
       "      <th></th>\n",
       "      <th></th>\n",
       "      <th></th>\n",
       "      <th></th>\n",
       "      <th></th>\n",
       "      <th></th>\n",
       "    </tr>\n",
       "  </thead>\n",
       "  <tbody>\n",
       "    <tr>\n",
       "      <th>A.J. Price</th>\n",
       "      <td>373</td>\n",
       "      <td>PG</td>\n",
       "      <td>28</td>\n",
       "      <td>PHO</td>\n",
       "      <td>44</td>\n",
       "      <td>3</td>\n",
       "      <td>14</td>\n",
       "      <td>0</td>\n",
       "      <td>0</td>\n",
       "      <td>5</td>\n",
       "      <td>6</td>\n",
       "    </tr>\n",
       "    <tr>\n",
       "      <th>Aaron Brooks</th>\n",
       "      <td>63</td>\n",
       "      <td>PG</td>\n",
       "      <td>30</td>\n",
       "      <td>CHI</td>\n",
       "      <td>1885</td>\n",
       "      <td>344</td>\n",
       "      <td>817</td>\n",
       "      <td>145</td>\n",
       "      <td>174</td>\n",
       "      <td>189</td>\n",
       "      <td>954</td>\n",
       "    </tr>\n",
       "    <tr>\n",
       "      <th>Aaron Gordon</th>\n",
       "      <td>176</td>\n",
       "      <td>PF</td>\n",
       "      <td>19</td>\n",
       "      <td>ORL</td>\n",
       "      <td>797</td>\n",
       "      <td>93</td>\n",
       "      <td>208</td>\n",
       "      <td>44</td>\n",
       "      <td>61</td>\n",
       "      <td>83</td>\n",
       "      <td>243</td>\n",
       "    </tr>\n",
       "    <tr>\n",
       "      <th>Adreian Payne</th>\n",
       "      <td>362</td>\n",
       "      <td>PF</td>\n",
       "      <td>23</td>\n",
       "      <td>MIN</td>\n",
       "      <td>720</td>\n",
       "      <td>89</td>\n",
       "      <td>213</td>\n",
       "      <td>29</td>\n",
       "      <td>44</td>\n",
       "      <td>84</td>\n",
       "      <td>208</td>\n",
       "    </tr>\n",
       "    <tr>\n",
       "      <th>Al Horford</th>\n",
       "      <td>222</td>\n",
       "      <td>C</td>\n",
       "      <td>28</td>\n",
       "      <td>ATL</td>\n",
       "      <td>2318</td>\n",
       "      <td>519</td>\n",
       "      <td>965</td>\n",
       "      <td>107</td>\n",
       "      <td>141</td>\n",
       "      <td>121</td>\n",
       "      <td>1156</td>\n",
       "    </tr>\n",
       "  </tbody>\n",
       "</table>\n",
       "</div>"
      ],
      "text/plain": [
       "                Rk Pos  Age   Tm    MP   FG  FGA   FT  FTA   PF   PTS\n",
       "Player                                                               \n",
       "A.J. Price     373  PG   28  PHO    44    3   14    0    0    5     6\n",
       "Aaron Brooks    63  PG   30  CHI  1885  344  817  145  174  189   954\n",
       "Aaron Gordon   176  PF   19  ORL   797   93  208   44   61   83   243\n",
       "Adreian Payne  362  PF   23  MIN   720   89  213   29   44   84   208\n",
       "Al Horford     222   C   28  ATL  2318  519  965  107  141  121  1156"
      ]
     },
     "execution_count": 2,
     "metadata": {},
     "output_type": "execute_result"
    }
   ],
   "source": [
    "bball_df = pd.read_csv('./data/basketball.csv', index_col = 'Player')\n",
    "bball_df.head()"
   ]
  },
  {
   "cell_type": "markdown",
   "metadata": {},
   "source": [
    "## Problem 2: LeBron James (6 points)\n",
    "\n",
    "What is the team and rank of the player \"LeBron James\" in the dataset? \n",
    "\n",
    "**Make sure you assign the team to `LeBron_Tm` variable and rank to `LeBron_Rk` variable.** "
   ]
  },
  {
   "cell_type": "code",
   "execution_count": 3,
   "metadata": {},
   "outputs": [
    {
     "name": "stdout",
     "output_type": "stream",
     "text": [
      "LeBron James belongs to 'CLE' team and his rank in this dataset is 235.\n"
     ]
    }
   ],
   "source": [
    "LeBron_Tm = bball_df.loc['LeBron James']['Tm']\n",
    "LeBron_Rk = bball_df.loc['LeBron James']['Rk']\n",
    "\n",
    "# If you have assign BOTH of the above variables appropriately you can 'uncomment' (remove the hash) from \n",
    "# the following print statement to see the output\n",
    "\n",
    "print(\"LeBron James belongs to '{0}' team and his rank in this dataset is {1}.\".format(LeBron_Tm, LeBron_Rk))"
   ]
  },
  {
   "cell_type": "markdown",
   "metadata": {},
   "source": [
    "## Problem 3: Calculating the Field Goal Percentage column (6 points)\n",
    "\n",
    "If you look closely at the columns of the data there is a column for field goal attempts 'FGA' and field goals 'FG'. Create a column named `FG_perc` that provides the percentage of field goals among the field goal attempts for each player. **Also, remember this is a percentage not a fraction**. \n",
    "\n",
    "**Make sure you create a column `FG_perc` in the `bball_df` to hold the field goal percentage.**"
   ]
  },
  {
   "cell_type": "code",
   "execution_count": 4,
   "metadata": {},
   "outputs": [
    {
     "data": {
      "text/html": [
       "<div>\n",
       "<style>\n",
       "    .dataframe thead tr:only-child th {\n",
       "        text-align: right;\n",
       "    }\n",
       "\n",
       "    .dataframe thead th {\n",
       "        text-align: left;\n",
       "    }\n",
       "\n",
       "    .dataframe tbody tr th {\n",
       "        vertical-align: top;\n",
       "    }\n",
       "</style>\n",
       "<table border=\"1\" class=\"dataframe\">\n",
       "  <thead>\n",
       "    <tr style=\"text-align: right;\">\n",
       "      <th></th>\n",
       "      <th>Rk</th>\n",
       "      <th>Pos</th>\n",
       "      <th>Age</th>\n",
       "      <th>Tm</th>\n",
       "      <th>MP</th>\n",
       "      <th>FG</th>\n",
       "      <th>FGA</th>\n",
       "      <th>FT</th>\n",
       "      <th>FTA</th>\n",
       "      <th>PF</th>\n",
       "      <th>PTS</th>\n",
       "      <th>FG_Perc</th>\n",
       "    </tr>\n",
       "    <tr>\n",
       "      <th>Player</th>\n",
       "      <th></th>\n",
       "      <th></th>\n",
       "      <th></th>\n",
       "      <th></th>\n",
       "      <th></th>\n",
       "      <th></th>\n",
       "      <th></th>\n",
       "      <th></th>\n",
       "      <th></th>\n",
       "      <th></th>\n",
       "      <th></th>\n",
       "      <th></th>\n",
       "    </tr>\n",
       "  </thead>\n",
       "  <tbody>\n",
       "    <tr>\n",
       "      <th>A.J. Price</th>\n",
       "      <td>373</td>\n",
       "      <td>PG</td>\n",
       "      <td>28</td>\n",
       "      <td>PHO</td>\n",
       "      <td>44</td>\n",
       "      <td>3</td>\n",
       "      <td>14</td>\n",
       "      <td>0</td>\n",
       "      <td>0</td>\n",
       "      <td>5</td>\n",
       "      <td>6</td>\n",
       "      <td>21.428571</td>\n",
       "    </tr>\n",
       "    <tr>\n",
       "      <th>Aaron Brooks</th>\n",
       "      <td>63</td>\n",
       "      <td>PG</td>\n",
       "      <td>30</td>\n",
       "      <td>CHI</td>\n",
       "      <td>1885</td>\n",
       "      <td>344</td>\n",
       "      <td>817</td>\n",
       "      <td>145</td>\n",
       "      <td>174</td>\n",
       "      <td>189</td>\n",
       "      <td>954</td>\n",
       "      <td>42.105263</td>\n",
       "    </tr>\n",
       "    <tr>\n",
       "      <th>Aaron Gordon</th>\n",
       "      <td>176</td>\n",
       "      <td>PF</td>\n",
       "      <td>19</td>\n",
       "      <td>ORL</td>\n",
       "      <td>797</td>\n",
       "      <td>93</td>\n",
       "      <td>208</td>\n",
       "      <td>44</td>\n",
       "      <td>61</td>\n",
       "      <td>83</td>\n",
       "      <td>243</td>\n",
       "      <td>44.711538</td>\n",
       "    </tr>\n",
       "    <tr>\n",
       "      <th>Adreian Payne</th>\n",
       "      <td>362</td>\n",
       "      <td>PF</td>\n",
       "      <td>23</td>\n",
       "      <td>MIN</td>\n",
       "      <td>720</td>\n",
       "      <td>89</td>\n",
       "      <td>213</td>\n",
       "      <td>29</td>\n",
       "      <td>44</td>\n",
       "      <td>84</td>\n",
       "      <td>208</td>\n",
       "      <td>41.784038</td>\n",
       "    </tr>\n",
       "    <tr>\n",
       "      <th>Al Horford</th>\n",
       "      <td>222</td>\n",
       "      <td>C</td>\n",
       "      <td>28</td>\n",
       "      <td>ATL</td>\n",
       "      <td>2318</td>\n",
       "      <td>519</td>\n",
       "      <td>965</td>\n",
       "      <td>107</td>\n",
       "      <td>141</td>\n",
       "      <td>121</td>\n",
       "      <td>1156</td>\n",
       "      <td>53.782383</td>\n",
       "    </tr>\n",
       "  </tbody>\n",
       "</table>\n",
       "</div>"
      ],
      "text/plain": [
       "                Rk Pos  Age   Tm    MP   FG  FGA   FT  FTA   PF   PTS  \\\n",
       "Player                                                                  \n",
       "A.J. Price     373  PG   28  PHO    44    3   14    0    0    5     6   \n",
       "Aaron Brooks    63  PG   30  CHI  1885  344  817  145  174  189   954   \n",
       "Aaron Gordon   176  PF   19  ORL   797   93  208   44   61   83   243   \n",
       "Adreian Payne  362  PF   23  MIN   720   89  213   29   44   84   208   \n",
       "Al Horford     222   C   28  ATL  2318  519  965  107  141  121  1156   \n",
       "\n",
       "                 FG_Perc  \n",
       "Player                    \n",
       "A.J. Price     21.428571  \n",
       "Aaron Brooks   42.105263  \n",
       "Aaron Gordon   44.711538  \n",
       "Adreian Payne  41.784038  \n",
       "Al Horford     53.782383  "
      ]
     },
     "execution_count": 4,
     "metadata": {},
     "output_type": "execute_result"
    }
   ],
   "source": [
    "bball_df['FG_Perc'] =  100* bball_df['FG']/ bball_df['FGA']\n",
    "\n",
    "bball_df.head()"
   ]
  },
  {
   "cell_type": "markdown",
   "metadata": {},
   "source": [
    "## Problem 4: Basic Investigations (20 points)"
   ]
  },
  {
   "cell_type": "markdown",
   "metadata": {},
   "source": [
    "<div class=\"alert alert-block alert-warning\">\n",
    "<h3> Creating a column for points per minute </h3>\n",
    "<p>**Make sure you run the following cell.**</p>\n",
    "<p>\n",
    "The following set up cell is used to load all the required packages. </p>\n",
    "</div> \n"
   ]
  },
  {
   "cell_type": "code",
   "execution_count": 5,
   "metadata": {
    "collapsed": true
   },
   "outputs": [],
   "source": [
    "# For your convenience I have created the column\n",
    "# The number of points per minute is the total number of points (PTS) divided by the number of minutes played (MP)\n",
    "\n",
    "bball_df['PTS_per_Min'] = bball_df['PTS']/bball_df['MP']"
   ]
  },
  {
   "cell_type": "markdown",
   "metadata": {},
   "source": [
    "** You have to answer the ALL of the following questions to receive full credit.**\n",
    "\n",
    "Calculate the following characteristics about the `bball_df` dataset. \n",
    "\n",
    "1. What is the mean age of the players? \n",
    "    * Assign the mean value to `mean_age` variable. \n",
    "2. Which player has the most number of points ('PTS')? \n",
    "    * Assign player name with the most number of points to `max_pts_player` variable.\n",
    "3. Which player has the least number of personal fouls ('PF')? \n",
    "    * Assign player name with the least number of personal fouls to `min_pf_player` variable.\n",
    "4. Among the players above 35, who has the most number of points per minutes ('PTS_per_Min')?  \n",
    "    * Assign this players name to `abv_35_max_pts_per_min_player` variable. \n",
    "5. Is the average age of players in the team Chicago Bulls ('CHI') greater than average age of players in team Boston Celtics ('BOS')? \n",
    "    * Assign the boolean value of your comparison to the variable `is_age_chi_gt_bos`.\n"
   ]
  },
  {
   "cell_type": "code",
   "execution_count": 7,
   "metadata": {},
   "outputs": [
    {
     "name": "stdout",
     "output_type": "stream",
     "text": [
      "The average age of players in the dataset is 26.536585365853657\n",
      "The maximum number of points was scored by the player James Harden\n",
      "The minimum number of personal fouls are made by the player Jerrelle Benimon\n",
      "Among players above age 35, Kobe Bryant has the most number of points per minute\n",
      "Average age of Chicago Bulls players is greater than Boston Celtics\n"
     ]
    }
   ],
   "source": [
    "mean_age = bball_df['Age'].mean()\n",
    "\n",
    "max_pts_player = bball_df['PTS'].argmax()\n",
    "\n",
    "min_pf_player = bball_df['PF'].argmin()\n",
    "\n",
    "abv_35_max_pts_per_min_player = bball_df[bball_df['Age']>35]['PTS_per_Min'].argmax()\n",
    "\n",
    "is_age_chi_gt_bos = bball_df[bball_df['Tm'] == 'CHI']['Age'].mean()> bball_df[bball_df['Tm'] == 'BOS']['Age'].mean()\n",
    "\n",
    "\n",
    "# After you assign ALL the values appropriately you can uncomment (remove hash) from each of the following code and print statements \n",
    "# to see the output printed for you. \n",
    "\n",
    "print(\"The average age of players in the dataset is {}\".format(mean_age))\n",
    "print(\"The maximum number of points was scored by the player {}\".format(max_pts_player))\n",
    "print(\"The minimum number of personal fouls are made by the player {}\".format(min_pf_player))\n",
    "print(\"Among players above age 35, {} has the most number of points per minute\".format(abv_35_max_pts_per_min_player))\n",
    "if is_age_chi_gt_bos:\n",
    "    print(\"Average age of Chicago Bulls players is greater than Boston Celtics\")\n",
    "else:\n",
    "    print(\"Average age of Boston Celtics players is greater than Chicago Bulls\")"
   ]
  },
  {
   "cell_type": "markdown",
   "metadata": {},
   "source": [
    "## Problem 5: Testing a hypothesis (10 points)\n",
    "\n",
    "There is a claim that players gain experience with age and hence score more points. One way to see if this claim is true, is to do the following tasks\n",
    "\n",
    "1. What is the median age of the players?\n",
    "    * Assign the median age to the variable named `med_age`. \n",
    "    \n",
    "2. What are the average number of points ('PTS') scored by players above the `med_age` and average points scored by players less than or equal to `med_age`? \n",
    "    * Assign the average points above median age to variable `avg_pts_abv_med` and average points less than or equal to median age to variable named `avg_pts_lt_eq_med`\n",
    "\n",
    "3. Print the `avg_pts_abv_med`, `avg_pts_lt_eq_med` values and compare them. Do you think the claim 'Higher age players score more points than lower age players'? \n",
    "    * Assign `True` or `False` to variable named `is_claim_true`. \n"
   ]
  },
  {
   "cell_type": "code",
   "execution_count": 8,
   "metadata": {},
   "outputs": [
    {
     "name": "stdout",
     "output_type": "stream",
     "text": [
      "489.08597285067873\n",
      "445.4760147601476\n"
     ]
    }
   ],
   "source": [
    "med_age = bball_df['Age'].median()\n",
    "\n",
    "avg_pts_abv_med =  bball_df[bball_df['Age']> med_age]['PTS'].mean()\n",
    "\n",
    "avg_pts_lt_eq_med = bball_df[bball_df['Age']<= med_age]['PTS'].mean()\n",
    "\n",
    "print(avg_pts_abv_med)\n",
    "\n",
    "print(avg_pts_lt_eq_med)"
   ]
  },
  {
   "cell_type": "code",
   "execution_count": 9,
   "metadata": {
    "collapsed": true
   },
   "outputs": [],
   "source": [
    "# Assign True or False Boolean value to the following variable\n",
    "\n",
    "is_claim_true = avg_pts_abv_med > avg_pts_lt_eq_med"
   ]
  },
  {
   "cell_type": "markdown",
   "metadata": {},
   "source": [
    "## Problem 6: Writing Cavaliers to the file (5 points)\n",
    "\n",
    "Extract the players who belong to the Cleveland Cavaliers team ('CLE') into a separate `DataFrame` and **save it as a file in the './data' folder with the file name 'Cleveland_players.csv'** using [to_csv()](https://pandas.pydata.org/pandas-docs/stable/generated/pandas.DataFrame.to_csv.html) "
   ]
  },
  {
   "cell_type": "code",
   "execution_count": 11,
   "metadata": {},
   "outputs": [],
   "source": [
    "cle_players = bball_df[bball_df['Tm'] == 'CLE']\n",
    "\n",
    "cle_players.to_csv('./data/Cleveland_players.csv')"
   ]
  }
 ],
 "metadata": {
  "kernelspec": {
   "display_name": "Python 3",
   "language": "python",
   "name": "python3"
  },
  "language_info": {
   "codemirror_mode": {
    "name": "ipython",
    "version": 3
   },
   "file_extension": ".py",
   "mimetype": "text/x-python",
   "name": "python",
   "nbconvert_exporter": "python",
   "pygments_lexer": "ipython3",
   "version": "3.6.1"
  }
 },
 "nbformat": 4,
 "nbformat_minor": 2
}
