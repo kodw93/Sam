{
 "cells": [
  {
   "cell_type": "markdown",
   "metadata": {},
   "source": [
    "# In-Class Assignment 1 (Part 4 of 4: Titanic Dataset) - 25 Points\n",
    "\n",
    "In this part of the assignment we will do some basic analysis with Titanic dataset. We will be working with a sample of the original dataset released through [Kaggle](https://www.kaggle.com/c/titanic/data) competition. \n",
    "\n",
    "** Follow all the steps of the analysis **"
   ]
  },
  {
   "cell_type": "markdown",
   "metadata": {},
   "source": [
    "## Step 0: Functions for loading the dataset\n",
    "\n",
    "**Do not modify the following code. However, make sure you execute the following cell.**"
   ]
  },
  {
   "cell_type": "code",
   "execution_count": 1,
   "metadata": {
    "collapsed": true
   },
   "outputs": [],
   "source": [
    "# Step 0: Functions for loading the dataset\n",
    "# You don't have to understand the specifics of the functions below\n",
    "\n",
    "def get_name_info():\n",
    "    \"\"\"\n",
    "    Loads the names data and returns the list of names of travelers\n",
    "    \"\"\"\n",
    "    with open('Titanic_Names.csv','r') as f:\n",
    "        name = f.read().splitlines()\n",
    "    name = [x[1:-1] for x in name]\n",
    "    return name\n",
    "\n",
    "def get_gender_info():\n",
    "    \"\"\"\n",
    "    Loads the gender data and returns the list of genders of travelers\n",
    "    \"\"\"\n",
    "    with open('Titanic_Gender.csv','r') as f:\n",
    "        gender = f.read().splitlines()\n",
    "    return gender\n",
    "\n",
    "def get_survival_info():\n",
    "    \"\"\"\n",
    "    Loads the survival data and returns the list of survival information about the travelers\n",
    "    \"\"\"\n",
    "    with open('Titanic_Survived.csv','r') as f:\n",
    "        survived = f.read().splitlines()\n",
    "    survived = [int(x) for x in survived]\n",
    "    return survived\n"
   ]
  },
  {
   "cell_type": "markdown",
   "metadata": {},
   "source": [
    "## Step 1: Call the functions to acquire data\n",
    "\n",
    "Though you may not have to understand the specifics of the above functions, call the appropriate functions to populate the following lists from the data. "
   ]
  },
  {
   "cell_type": "code",
   "execution_count": 2,
   "metadata": {
    "collapsed": true
   },
   "outputs": [],
   "source": [
    "names_list = get_name_info()\n",
    "gender_list = get_gender_info()\n",
    "survived_list = get_survival_info()"
   ]
  },
  {
   "cell_type": "markdown",
   "metadata": {},
   "source": [
    "## Step 2: Number of Travelers in the dataset\n",
    "\n",
    "* Print the number of travelers in the dataset. \n",
    "* Make sure the length of each list above is the same"
   ]
  },
  {
   "cell_type": "code",
   "execution_count": 3,
   "metadata": {},
   "outputs": [
    {
     "name": "stdout",
     "output_type": "stream",
     "text": [
      "891\n",
      "891\n",
      "891\n"
     ]
    }
   ],
   "source": [
    "print(len(names_list))\n",
    "print(len(gender_list))\n",
    "print(len(survived_list))\n"
   ]
  },
  {
   "cell_type": "markdown",
   "metadata": {},
   "source": [
    "## Step 3: View the first five travelers' information\n",
    "\n",
    "Print the **first five** elements of the following three lists\n",
    "* `names_list`\n",
    "* `gender_list`\n",
    "* `survived_list`. "
   ]
  },
  {
   "cell_type": "code",
   "execution_count": 4,
   "metadata": {},
   "outputs": [
    {
     "name": "stdout",
     "output_type": "stream",
     "text": [
      "['Braund, Mr. Owen Harris', 'Cumings, Mrs. John Bradley (Florence Briggs Thayer)', 'Heikkinen, Miss. Laina', 'Futrelle, Mrs. Jacques Heath (Lily May Peel)', 'Allen, Mr. William Henry']\n",
      "['male', 'female', 'female', 'female', 'male']\n",
      "[0, 1, 1, 1, 0]\n"
     ]
    }
   ],
   "source": [
    "print(names_list[:5])\n",
    "print(gender_list[:5])\n",
    "print(survived_list[:5])"
   ]
  },
  {
   "cell_type": "markdown",
   "metadata": {},
   "source": [
    "## Step 4: Relationship between the lists\n",
    "\n",
    "Though the original data was all available together, it was split into three lists for simplicity. The relationship between the lists is such that the $i^{th}$ indexed element in one list corresponds to $i^{th}$ indexed element in another list. \n",
    "\n",
    "For example, the first traveler name is available in ```names_list[0]``` and the gender is available in ```gender_list[0]``` and the traveler survival information is available in ```survived_list[0]```. \n",
    "\n",
    "Furthermore, the ```survived_list``` is either a 0 or 1. \n",
    "\n",
    "* 1 means the traveler survived the Titanic disaster.\n",
    "* 0 means the traveler did not survive the Titanic disaster. \n",
    "\n",
    "### To Do\n",
    "\n",
    "**Select a random traveler and print the traveler information**\n",
    "\n",
    "* If the selected traveler survived you should print **'A male traveler named XXXX has successfully survived the Titanic disaster!'**. It should appropriately change output if the traveler is a female. Obivously, you will fill XXXX with appropriate name of the selected traveler. \n",
    "\n",
    "* If the selected traveler did not survive you should print **'A male traveler named XXXX has unfortunately not survived the Titanic disaster.'**. Again, it should appropriately change the output if the traveler is a female. Obivously, you will fill XXXX with appropriate name of the selected traveler.\n",
    "\n",
    "#### Hint\n",
    "* To select a random traveler you may have to 'import random' and use [random.randint()](https://docs.python.org/3.1/library/random.html) function to select a random index."
   ]
  },
  {
   "cell_type": "code",
   "execution_count": 5,
   "metadata": {},
   "outputs": [
    {
     "name": "stdout",
     "output_type": "stream",
     "text": [
      "A female traveler named Louch, Mrs. Charles Alexander (Alice Adelaide Slow) has successfully survived the Titanic disaster!\n"
     ]
    }
   ],
   "source": [
    "import random\n",
    "\n",
    "rand_travel_index = random.randint(0, len(names_list))\n",
    "\n",
    "name = names_list[rand_travel_index]\n",
    "gender = gender_list[rand_travel_index]\n",
    "\n",
    "if survived_list[rand_travel_index] == 1:\n",
    "    print(\"A {0} traveler named {1} has successfully survived the Titanic disaster!\".format(gender,name))\n",
    "else:\n",
    "    print(\"A {0} traveler named {1} has unfortunately not survived the Titanic disaster.\".format(gender,name))"
   ]
  },
  {
   "cell_type": "markdown",
   "metadata": {},
   "source": [
    "## Step 5: Summary Statistics\n",
    "\n",
    "Write Python code to print the following summary statistics from the data\n",
    "\n",
    "1. The total number of travelers survived and the survival percentage (up to two decimals). \n",
    "\n",
    "2. The number females travelers and the percentage of females (up to two decimals). "
   ]
  },
  {
   "cell_type": "markdown",
   "metadata": {},
   "source": [
    "### Most efficient way"
   ]
  },
  {
   "cell_type": "code",
   "execution_count": 6,
   "metadata": {},
   "outputs": [
    {
     "name": "stdout",
     "output_type": "stream",
     "text": [
      "The total number of travelers survived is 342 and percentage survived is 38.38%.\n",
      "The total number of females survived is 314 and percentage survived is 35.24%.\n"
     ]
    }
   ],
   "source": [
    "\n",
    "num_survived = sum(survived_list)\n",
    "perc_survived = 100*sum(survived_list)/len(survived_list)\n",
    "print(\"The total number of travelers survived is {0} and percentage survived is {1:.2f}%.\".format(num_survived, perc_survived))\n",
    "\n",
    "female_indicator = [1 if x == 'female' else 0 for x in gender_list]\n",
    "num_female = sum(female_indicator)\n",
    "perc_female = 100* sum(female_indicator)/len(female_indicator)\n",
    "print(\"The total number of females survived is {0} and percentage survived is {1:.2f}%.\".format(num_female, perc_female))\n"
   ]
  },
  {
   "cell_type": "markdown",
   "metadata": {},
   "source": [
    "### One other way"
   ]
  },
  {
   "cell_type": "code",
   "execution_count": 7,
   "metadata": {},
   "outputs": [
    {
     "name": "stdout",
     "output_type": "stream",
     "text": [
      "The total number of travelers survived is 342 and percentage survived is 38.38%.\n",
      "The total number of females survived is 314 and percentage survived is 35.24%.\n"
     ]
    }
   ],
   "source": [
    "\n",
    "#Initialize num_survived to 0\n",
    "num_survived = 0\n",
    "for elem in survived_list:\n",
    "    # Check if the current element is 1, if so increment the num_survived\n",
    "    if elem == 1:\n",
    "        num_survived = num_survived + 1\n",
    "perc_survived = 100* num_survived/len(survived_list)\n",
    "print(\"The total number of travelers survived is {0} and percentage survived is {1:.2f}%.\".format(num_survived, perc_survived))\n",
    "\n",
    "# Similarly initialize num_female to 0\n",
    "num_female = 0\n",
    "for elem in gender_list:\n",
    "    # Check if the current element is 1, if so increment the num_survived\n",
    "    if elem == 'female':\n",
    "        num_female = num_female + 1\n",
    "perc_female = 100* num_female/len(gender_list)\n",
    "print(\"The total number of females survived is {0} and percentage survived is {1:.2f}%.\".format(num_female, perc_female))"
   ]
  },
  {
   "cell_type": "markdown",
   "metadata": {},
   "source": [
    "## BONUS Step: What percent of males survived? Females? - 7 Points"
   ]
  },
  {
   "cell_type": "code",
   "execution_count": 8,
   "metadata": {},
   "outputs": [
    {
     "name": "stdout",
     "output_type": "stream",
     "text": [
      "The percentage of male survived is 18.89% and percentage of females survived is 74.20%\n"
     ]
    }
   ],
   "source": [
    "# Initialize everythign to 0\n",
    "\n",
    "male_survived, total_male = 0, 0\n",
    "\n",
    "female_survived,total_female  = 0, 0\n",
    "\n",
    "for ind in range(len(survived_list)):\n",
    "    # ind is used to iterate to through all the index values\n",
    "    # This time we are using 'ind' because we are accessing two lists in the for loop\n",
    "    \n",
    "    #If the person is male increment the male count\n",
    "    if gender_list[ind] == 'male':\n",
    "        total_male = total_male + 1\n",
    "    else:\n",
    "        total_female = total_female + 1\n",
    "    \n",
    "    # if the the person survived and is male increment the male_survived\n",
    "    if survived_list[ind] == 1 and gender_list[ind] == 'male':\n",
    "        male_survived = male_survived + 1\n",
    "    # if the the person survived and is female increment the female_survived\n",
    "    elif survived_list[ind] == 1 and gender_list[ind] == 'female': \n",
    "        female_survived = female_survived + 1\n",
    "\n",
    "\n",
    "perc_male_survived = 100* male_survived/total_male\n",
    "perc_female_survived = 100* female_survived/total_female\n",
    "print(\"The percentage of male survived is {0:.2f}% and percentage of females survived is {1:.2f}%\".format(perc_male_survived, \n",
    "                                                                                                         perc_female_survived))"
   ]
  }
 ],
 "metadata": {
  "kernelspec": {
   "display_name": "Python 3",
   "language": "python",
   "name": "python3"
  },
  "language_info": {
   "codemirror_mode": {
    "name": "ipython",
    "version": 3
   },
   "file_extension": ".py",
   "mimetype": "text/x-python",
   "name": "python",
   "nbconvert_exporter": "python",
   "pygments_lexer": "ipython3",
   "version": "3.7.3"
  }
 },
 "nbformat": 4,
 "nbformat_minor": 2
}
