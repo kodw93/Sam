{
 "cells": [
  {
   "cell_type": "markdown",
   "metadata": {},
   "source": [
    "# In-Class Assignment 1 (Part 1 of 4: Readings) - 15 Points"
   ]
  },
  {
   "cell_type": "markdown",
   "metadata": {},
   "source": [
    "<div class=\"alert alert-block alert-info\">\n",
    "\n",
    "_READ THE INSTRUCTIONS BEFORE YOU ANSWER_\n",
    "</div>\n",
    "### Instructions\n",
    "\n",
    " 1.  This part of the homework is to make sure you read the assigned readings and understood the concepts. \n",
    " 2.  Write your answers in the cell below each question. I have already made these cells as _Markdown_, but if you need to add more cells to your answer, make sure you select them as _Markdown_ from the top. \n",
    " 3. **For the questions based on code, I strongly recommend practicing to answer the questions by reading through the code without executing in a cell or using pythontutor. In the exam, in section 1 (which is paper based) you will have to answer them without a computer.** \n"
   ]
  },
  {
   "cell_type": "markdown",
   "metadata": {},
   "source": [
    "## Question 1 (2 Points)\n",
    "\n",
    "What are keyword arguments to the functions? How are they useful?"
   ]
  },
  {
   "cell_type": "markdown",
   "metadata": {},
   "source": [
    "Keyword arguments are identified by the keyword put before them in the function call. Keyword arguments are often used for optional parameters."
   ]
  },
  {
   "cell_type": "markdown",
   "metadata": {},
   "source": [
    "## Question 2 (3 Points)\n",
    "\n",
    "One of my friends has written the following function that accepts a list as an argument and returns the sum of all the elements in the list. \n",
    "\n",
    "Help him by providing the corrections necessary to achieve the task. \n",
    "\n",
    "```python\n",
    "def sum_list(lis):\n",
    "    for elem in lis:\n",
    "        total + elem\n",
    "    return total\n",
    "```"
   ]
  },
  {
   "cell_type": "code",
   "execution_count": null,
   "metadata": {
    "collapsed": true
   },
   "outputs": [],
   "source": [
    "def sum_list(lis):\n",
    "    total = 0\n",
    "    for elem in lis:\n",
    "        total = total + elem\n",
    "    return total"
   ]
  },
  {
   "cell_type": "markdown",
   "metadata": {},
   "source": [
    "The `total` variable has to be initialized to 0 before the `for` loop and then every time an `elem` is added to the `total` it has to be assigned back to the `total`. "
   ]
  },
  {
   "cell_type": "markdown",
   "metadata": {},
   "source": [
    "## Question 3 ( 5 Points)\n",
    "\n",
    "What is the output of the following Python code. **Explain briefly**. \n",
    "\n",
    "```python\n",
    "def func():\n",
    "    testing = [1,2,3]\n",
    "    return testing\n",
    "\n",
    "list1 = func()\n",
    "\n",
    "list2 = list1\n",
    "\n",
    "list1 = [1,2,5]\n",
    "\n",
    "print(list1[2])\n",
    "print(list2[2])\n",
    "\n",
    "```"
   ]
  },
  {
   "cell_type": "markdown",
   "metadata": {},
   "source": [
    "It prints \n",
    "\n",
    "5\n",
    "\n",
    "3"
   ]
  },
  {
   "cell_type": "markdown",
   "metadata": {},
   "source": [
    "## Question 4 (3 Points)\n",
    "\n",
    "What is the output of the following python code? **Explain briefly**.\n",
    "\n",
    "```python\n",
    "\n",
    "for i in range(0, 10):\n",
    "    if i < 3:\n",
    "        continue\n",
    "    elif i == 8:\n",
    "        break\n",
    "    else:\n",
    "        print i\n",
    "print i\n",
    "\n",
    "```"
   ]
  },
  {
   "cell_type": "markdown",
   "metadata": {},
   "source": [
    "As it currently stands (as I have written it in python2.7) it gives an error. So if they specify that they get full points. \n",
    "\n",
    "Alternatively they can say correct the `print` statements with the adding a parathesis around `i`. And say the output is \n",
    "\n",
    "3\n",
    "\n",
    "4\n",
    "\n",
    "5\n",
    "\n",
    "6\n",
    "\n",
    "7\n",
    "\n",
    "8\n",
    "\n",
    "It prints from 3 as previous values if `i` we are continuing, and we will break when `i` is equal to 8. However, we are printing again the value of `i` with the last print statement, hence the last 8 appears as an output. "
   ]
  },
  {
   "cell_type": "markdown",
   "metadata": {},
   "source": [
    "## Question 5 (2 points)\n",
    "\n",
    "What are the elements left in `my_list` after executing the following code? **Explain briefly**.\n",
    "\n",
    "```python\n",
    "my_list = [1,3,2,5,2,5]\n",
    "my_list.append(8)\n",
    "my_list.append(5)\n",
    "my_list.remove(5)\n",
    "```"
   ]
  },
  {
   "cell_type": "markdown",
   "metadata": {},
   "source": [
    "The elements of my list is [1,3,2,2,5,8,5]\n",
    "\n",
    "The first two append statements have appended 8 and 5 to the end of the list. Further, when you remove 5, it removes the first occurance of 5 from the left. "
   ]
  }
 ],
 "metadata": {
  "kernelspec": {
   "display_name": "Python 3",
   "language": "python",
   "name": "python3"
  },
  "language_info": {
   "codemirror_mode": {
    "name": "ipython",
    "version": 3
   },
   "file_extension": ".py",
   "mimetype": "text/x-python",
   "name": "python",
   "nbconvert_exporter": "python",
   "pygments_lexer": "ipython3",
   "version": "3.7.3"
  }
 },
 "nbformat": 4,
 "nbformat_minor": 2
}
