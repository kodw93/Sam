{
 "cells": [
  {
   "cell_type": "markdown",
   "metadata": {},
   "source": [
    "# In-Class Assignment 1 (Part 3 of 4: Military time to Regular time) - 15 Points\n",
    "\n",
    "Write a program that accepts the military time and prints the regular time. \n",
    "\n",
    "Below is a sample interaction."
   ]
  },
  {
   "cell_type": "raw",
   "metadata": {},
   "source": [
    "Enter the military time: 1643\n",
    "\n",
    "The regular time is 4:43 PM. "
   ]
  },
  {
   "cell_type": "raw",
   "metadata": {},
   "source": [
    "Enter the military time: 903\n",
    "\n",
    "The regular time is 9:03 AM. "
   ]
  },
  {
   "cell_type": "raw",
   "metadata": {},
   "source": [
    "Enter the military time: 0631\n",
    "\n",
    "The regular time is 6:31 AM. "
   ]
  },
  {
   "cell_type": "raw",
   "metadata": {},
   "source": [
    "Enter the military time: 1215\n",
    "\n",
    "The regular time is 12:15 PM. "
   ]
  },
  {
   "cell_type": "raw",
   "metadata": {},
   "source": [
    "Enter the military time: 015\n",
    "\n",
    "The regular time is 12:15 AM. "
   ]
  },
  {
   "cell_type": "raw",
   "metadata": {},
   "source": [
    "Enter the military time: 363\n",
    "\n",
    "You entered an invalid time."
   ]
  },
  {
   "cell_type": "markdown",
   "metadata": {},
   "source": [
    "### Hint\n",
    "1. You may find [divmod()](https://docs.python.org/3/library/functions.html#divmod) function useful.  "
   ]
  },
  {
   "cell_type": "code",
   "execution_count": 9,
   "metadata": {},
   "outputs": [
    {
     "name": "stdout",
     "output_type": "stream",
     "text": [
      "Enter the military time: 363\n",
      "You entered an invalid time\n"
     ]
    }
   ],
   "source": [
    "mil_time = int(input(\"Enter the military time: \"))\n",
    "\n",
    "mil_hr, mil_min = divmod(mil_time, 100)\n",
    "\n",
    "if not 0<= mil_hr < 24:\n",
    "    print(\"You entered an invalid time\")\n",
    "elif not 0<= mil_min < 60:\n",
    "    print(\"You entered an invalid time\")\n",
    "else:\n",
    "    am_pm = \"AM\"\n",
    "\n",
    "    if mil_hr >=12:\n",
    "        am_pm = \"PM\"\n",
    "\n",
    "    if mil_hr == 0 or mil_hr == 12:\n",
    "        hours = 12\n",
    "    else:\n",
    "        hours = mil_hr%12\n",
    "\n",
    "    print(\"The regular time is {0}:{1:02} {2}\".format(hours, mil_min, am_pm))"
   ]
  }
 ],
 "metadata": {
  "kernelspec": {
   "display_name": "Python 3",
   "language": "python",
   "name": "python3"
  },
  "language_info": {
   "codemirror_mode": {
    "name": "ipython",
    "version": 3
   },
   "file_extension": ".py",
   "mimetype": "text/x-python",
   "name": "python",
   "nbconvert_exporter": "python",
   "pygments_lexer": "ipython3",
   "version": "3.7.3"
  }
 },
 "nbformat": 4,
 "nbformat_minor": 2
}
